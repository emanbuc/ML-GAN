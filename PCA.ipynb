{
  "nbformat": 4,
  "nbformat_minor": 0,
  "metadata": {
    "colab": {
      "name": "PCA.ipynb",
      "provenance": [],
      "authorship_tag": "ABX9TyOfZK+V0lnSfS6X96rRL++2",
      "include_colab_link": true
    },
    "kernelspec": {
      "name": "python3",
      "display_name": "Python 3"
    },
    "language_info": {
      "name": "python"
    }
  },
  "cells": [
    {
      "cell_type": "markdown",
      "metadata": {
        "id": "view-in-github",
        "colab_type": "text"
      },
      "source": [
        "<a href=\"https://colab.research.google.com/github/emanbuc/ML-GAN/blob/main/PCA.ipynb\" target=\"_parent\"><img src=\"https://colab.research.google.com/assets/colab-badge.svg\" alt=\"Open In Colab\"/></a>"
      ]
    },
    {
      "cell_type": "markdown",
      "source": [
        "# ESI vs SOC Dataset PCA"
      ],
      "metadata": {
        "id": "T4SKOaniP846"
      }
    },
    {
      "cell_type": "code",
      "source": [
        "import pandas as pd\n",
        "import numpy as np\n"
      ],
      "metadata": {
        "id": "Ae6pa46lRyRx"
      },
      "execution_count": 1,
      "outputs": []
    },
    {
      "cell_type": "code",
      "execution_count": 2,
      "metadata": {
        "id": "RTXIN02QPbIg"
      },
      "outputs": [],
      "source": [
        "def load_soc_dataset(battery_list,soc_list, dataset_path,show_data=False):\n",
        "  dataset = pd.DataFrame(columns=['SOC','BATTERY'])\n",
        "  for battery_index, battery_value in enumerate(battery_list):\n",
        "    if show_data:\n",
        "      print(\"battery: \"+str(battery_value))\n",
        "    #Create a Pandas dataframe from CSV\n",
        "    df_original= pd.read_csv(dataset_path+\"/BATT_\"+str(battery_value)+\"_ALL_SOC.csv\",names=soc_list, low_memory=False)\n",
        "    #note: csv from matlab are in format 12-64i.\n",
        "    #      'i\" must be replaced with \"j\" into the CVS file\n",
        "    df = df_original.apply(lambda col: col.apply(lambda val: val.replace('i','j')))\n",
        "    #Parse complex number in format: 123-56j, 432+56j\n",
        "    df = df.apply(lambda col: col.apply(lambda val: complex(val)))\n",
        "    df_rows=df.transpose()\n",
        "\n",
        "    eis_col_names= []\n",
        "    for colIndex in range(0,df_rows.shape[1],1):\n",
        "      eis_col_names.append(\"Z_f\"+str(colIndex))\n",
        "    \n",
        "    if show_data:\n",
        "      print(eis_col_names)\n",
        "    \n",
        "    df_rows.columns=eis_col_names\n",
        "\n",
        "    #for rowIndex, row in enumerate(df_rows):\n",
        "    df_rows['SOC']=soc_list\n",
        "    df_rows['BATTERY']=battery_value\n",
        "    dataset= dataset.append(df_rows)\n",
        "    if show_data:\n",
        "      print(df_rows)\n",
        "\n",
        "  return dataset,eis_col_names"
      ]
    },
    {
      "cell_type": "code",
      "source": [
        "\"\"\" Check is the code is running in Google Colab environment  \"\"\"\n",
        "def is_running_in_colab():\n",
        "  return 'google.colab' in str(get_ipython())"
      ],
      "metadata": {
        "id": "FcN2bIRrQkvg"
      },
      "execution_count": 3,
      "outputs": []
    },
    {
      "cell_type": "code",
      "source": [
        "def get_root_path(gDrivePath):\n",
        "    \"\"\" Get path to the Google Drive root working folder \"\"\"\n",
        "    RunningInCOLAB = is_running_in_colab()\n",
        "    if RunningInCOLAB :\n",
        "        from google.colab import drive\n",
        "        print(\"Running on COLAB\")\n",
        "        drive.mount('/gdrive',force_remount=True)\n",
        "        ROOT_DIR = '/gdrive/MyDrive/'+gDrivePath\n",
        "    \n",
        "    else:\n",
        "        print(\"NOT running on COLAB\")\n",
        "        ROOT_DIR=\"..\"\n",
        "    return ROOT_DIR"
      ],
      "metadata": {
        "id": "_mCLtZekQS4t"
      },
      "execution_count": 4,
      "outputs": []
    },
    {
      "cell_type": "code",
      "source": [
        "#configuration dictionary\n",
        "config ={}\n",
        "\n",
        "# Root working folder (local or Google Drive)\n",
        "# config['ROOT_DIR'] = get_root_path(\"batterie\")\n",
        "config['ROOT_DIR'] = get_root_path(\"batterie\")  \n",
        "\n",
        "# Folder with dataset in CSV format\n",
        "#config['DATASETS_DIR'] = config['ROOT_DIR']+\"/datasets\"\n",
        "config['DATASETS_DIR'] = config['ROOT_DIR']+\"/datasets/EIS-vs-SOC-2022\"\n",
        "\n",
        "# List of SoC level into dataset\n",
        "config['soc_list']=['100','090','080','070','060','050','040','030','020','010']\n",
        "# Data acquition file to load from dateset folder\n",
        "all_batteries=[1,2,3,4,5,7,8,9,10,11,12,13] # il file 6 produce un errore: complex() arg is a malformed string"
      ],
      "metadata": {
        "colab": {
          "base_uri": "https://localhost:8080/"
        },
        "id": "puFNQNJAQT8u",
        "outputId": "cb85ec29-98af-4de4-d110-4ef442e26af0"
      },
      "execution_count": 5,
      "outputs": [
        {
          "output_type": "stream",
          "name": "stdout",
          "text": [
            "Running on COLAB\n",
            "Mounted at /gdrive\n"
          ]
        }
      ]
    },
    {
      "cell_type": "code",
      "source": [
        "dataset,eis_col_names = load_soc_dataset(battery_list=all_batteries,soc_list=config['soc_list'],dataset_path=config['DATASETS_DIR'])"
      ],
      "metadata": {
        "id": "IHfWua7SQCvH"
      },
      "execution_count": 6,
      "outputs": []
    },
    {
      "cell_type": "code",
      "source": [
        "dataset"
      ],
      "metadata": {
        "colab": {
          "base_uri": "https://localhost:8080/",
          "height": 641
        },
        "id": "LJAZAo5JTZlH",
        "outputId": "6709a38c-fc64-49d5-baa5-2ea064aa75e5"
      },
      "execution_count": 7,
      "outputs": [
        {
          "output_type": "execute_result",
          "data": {
            "text/plain": [
              "     SOC BATTERY                Z_f0                Z_f1                Z_f2  \\\n",
              "100  100       1  0.075041-0.004793j  0.073999-0.003214j  0.073267-0.002382j   \n",
              "090  090       1  0.072146-0.005117j  0.070588-0.003815j  0.069388-0.002898j   \n",
              "080  080       1  0.070674-0.005346j  0.068942-0.004131j  0.068001-0.002939j   \n",
              "070  070       1  0.069776-0.005429j  0.068026-0.004174j  0.066787-0.002856j   \n",
              "060  060       1  0.068619-0.003835j  0.066856-0.003433j  0.065669-0.002385j   \n",
              "..   ...     ...                 ...                 ...                 ...   \n",
              "050  050      13  0.068732-0.003121j  0.067499-0.002808j  0.066566-0.001802j   \n",
              "040  040      13  0.068915-0.002994j  0.067912-0.002501j  0.067186-0.001574j   \n",
              "030  030      13  0.069699-0.003092j  0.068567-0.002486j  0.067793-0.001612j   \n",
              "020  020      13  0.070901-0.003276j  0.069618-0.002765j  0.068779-0.001774j   \n",
              "010  010      13  0.074011-0.004292j  0.072539-0.003420j  0.071548-0.002388j   \n",
              "\n",
              "                   Z_f3                Z_f4                Z_f5  \\\n",
              "100  0.072704-0.002013j  0.071689-0.002063j  0.071109-0.002271j   \n",
              "090  0.068809-0.001988j  0.067690-0.001872j  0.067334-0.002119j   \n",
              "080  0.067290-0.002149j  0.066002-0.001756j  0.065556-0.001861j   \n",
              "070  0.066142-0.002264j  0.065083-0.001689j  0.064663-0.001854j   \n",
              "060  0.065318-0.001635j  0.064353-0.001256j  0.064194-0.001438j   \n",
              "..                  ...                 ...                 ...   \n",
              "050  0.066398-0.001286j  0.065753-0.001306j  0.065406-0.001638j   \n",
              "040  0.066984-0.001122j  0.066435-0.001243j  0.066161-0.001707j   \n",
              "030  0.067615-0.001256j  0.067022-0.001355j  0.066679-0.001694j   \n",
              "020  0.068610-0.001334j  0.067935-0.001466j  0.067522-0.001857j   \n",
              "010  0.071018-0.001970j  0.070191-0.001974j  0.069458-0.002370j   \n",
              "\n",
              "                   Z_f6                Z_f7                Z_f8  \\\n",
              "100  0.070334-0.003086j  0.068127-0.005205j  0.065212-0.006356j   \n",
              "090  0.066712-0.002403j  0.065058-0.003811j  0.062823-0.005048j   \n",
              "080  0.065059-0.002163j  0.063415-0.003567j  0.061683-0.004496j   \n",
              "070  0.064244-0.002077j  0.062799-0.003086j  0.061226-0.004091j   \n",
              "060  0.063642-0.001943j  0.062633-0.002851j  0.060878-0.003915j   \n",
              "..                  ...                 ...                 ...   \n",
              "050  0.064763-0.002284j  0.063175-0.003610j  0.061263-0.004570j   \n",
              "040  0.065426-0.002295j  0.063928-0.003737j  0.061745-0.004823j   \n",
              "030  0.066028-0.002365j  0.064383-0.003777j  0.062255-0.004865j   \n",
              "020  0.066805-0.002502j  0.065131-0.003961j  0.062982-0.005092j   \n",
              "010  0.068559-0.003093j  0.066522-0.004606j  0.063936-0.005608j   \n",
              "\n",
              "                   Z_f9               Z_f10               Z_f11  \\\n",
              "100  0.061587-0.006771j  0.057341-0.006501j  0.054366-0.005494j   \n",
              "090  0.059913-0.005573j  0.056144-0.005644j  0.053652-0.005176j   \n",
              "080  0.059333-0.005229j  0.055601-0.005266j  0.053397-0.004634j   \n",
              "070  0.058823-0.004900j  0.055599-0.005055j  0.053120-0.004408j   \n",
              "060  0.058778-0.004488j  0.055450-0.004770j  0.053168-0.004471j   \n",
              "..                  ...                 ...                 ...   \n",
              "050  0.058690-0.005255j  0.055126-0.005326j  0.052614-0.004871j   \n",
              "040  0.059156-0.005428j  0.055505-0.005409j  0.052845-0.004924j   \n",
              "030  0.059631-0.005493j  0.055802-0.005580j  0.053215-0.005006j   \n",
              "020  0.060092-0.005780j  0.056237-0.005597j  0.053793-0.005084j   \n",
              "010  0.060867-0.006227j  0.056886-0.005825j  0.054247-0.005141j   \n",
              "\n",
              "                  Z_f12               Z_f13  \n",
              "100  0.052089-0.004712j  0.049729-0.003129j  \n",
              "090  0.051474-0.004079j  0.049119-0.002893j  \n",
              "080  0.051120-0.004001j  0.049108-0.002788j  \n",
              "070  0.051124-0.003760j  0.049217-0.002700j  \n",
              "060  0.051296-0.003754j  0.049280-0.002554j  \n",
              "..                  ...                 ...  \n",
              "050  0.050425-0.004149j  0.048196-0.003028j  \n",
              "040  0.050704-0.004224j  0.048486-0.002937j  \n",
              "030  0.051083-0.004229j  0.048782-0.002933j  \n",
              "020  0.051517-0.004185j  0.049226-0.002955j  \n",
              "010  0.052139-0.004326j  0.049798-0.003033j  \n",
              "\n",
              "[120 rows x 16 columns]"
            ],
            "text/html": [
              "\n",
              "  <div id=\"df-5abb5a3f-8f00-431d-8c69-49017ac835dd\">\n",
              "    <div class=\"colab-df-container\">\n",
              "      <div>\n",
              "<style scoped>\n",
              "    .dataframe tbody tr th:only-of-type {\n",
              "        vertical-align: middle;\n",
              "    }\n",
              "\n",
              "    .dataframe tbody tr th {\n",
              "        vertical-align: top;\n",
              "    }\n",
              "\n",
              "    .dataframe thead th {\n",
              "        text-align: right;\n",
              "    }\n",
              "</style>\n",
              "<table border=\"1\" class=\"dataframe\">\n",
              "  <thead>\n",
              "    <tr style=\"text-align: right;\">\n",
              "      <th></th>\n",
              "      <th>SOC</th>\n",
              "      <th>BATTERY</th>\n",
              "      <th>Z_f0</th>\n",
              "      <th>Z_f1</th>\n",
              "      <th>Z_f2</th>\n",
              "      <th>Z_f3</th>\n",
              "      <th>Z_f4</th>\n",
              "      <th>Z_f5</th>\n",
              "      <th>Z_f6</th>\n",
              "      <th>Z_f7</th>\n",
              "      <th>Z_f8</th>\n",
              "      <th>Z_f9</th>\n",
              "      <th>Z_f10</th>\n",
              "      <th>Z_f11</th>\n",
              "      <th>Z_f12</th>\n",
              "      <th>Z_f13</th>\n",
              "    </tr>\n",
              "  </thead>\n",
              "  <tbody>\n",
              "    <tr>\n",
              "      <th>100</th>\n",
              "      <td>100</td>\n",
              "      <td>1</td>\n",
              "      <td>0.075041-0.004793j</td>\n",
              "      <td>0.073999-0.003214j</td>\n",
              "      <td>0.073267-0.002382j</td>\n",
              "      <td>0.072704-0.002013j</td>\n",
              "      <td>0.071689-0.002063j</td>\n",
              "      <td>0.071109-0.002271j</td>\n",
              "      <td>0.070334-0.003086j</td>\n",
              "      <td>0.068127-0.005205j</td>\n",
              "      <td>0.065212-0.006356j</td>\n",
              "      <td>0.061587-0.006771j</td>\n",
              "      <td>0.057341-0.006501j</td>\n",
              "      <td>0.054366-0.005494j</td>\n",
              "      <td>0.052089-0.004712j</td>\n",
              "      <td>0.049729-0.003129j</td>\n",
              "    </tr>\n",
              "    <tr>\n",
              "      <th>090</th>\n",
              "      <td>090</td>\n",
              "      <td>1</td>\n",
              "      <td>0.072146-0.005117j</td>\n",
              "      <td>0.070588-0.003815j</td>\n",
              "      <td>0.069388-0.002898j</td>\n",
              "      <td>0.068809-0.001988j</td>\n",
              "      <td>0.067690-0.001872j</td>\n",
              "      <td>0.067334-0.002119j</td>\n",
              "      <td>0.066712-0.002403j</td>\n",
              "      <td>0.065058-0.003811j</td>\n",
              "      <td>0.062823-0.005048j</td>\n",
              "      <td>0.059913-0.005573j</td>\n",
              "      <td>0.056144-0.005644j</td>\n",
              "      <td>0.053652-0.005176j</td>\n",
              "      <td>0.051474-0.004079j</td>\n",
              "      <td>0.049119-0.002893j</td>\n",
              "    </tr>\n",
              "    <tr>\n",
              "      <th>080</th>\n",
              "      <td>080</td>\n",
              "      <td>1</td>\n",
              "      <td>0.070674-0.005346j</td>\n",
              "      <td>0.068942-0.004131j</td>\n",
              "      <td>0.068001-0.002939j</td>\n",
              "      <td>0.067290-0.002149j</td>\n",
              "      <td>0.066002-0.001756j</td>\n",
              "      <td>0.065556-0.001861j</td>\n",
              "      <td>0.065059-0.002163j</td>\n",
              "      <td>0.063415-0.003567j</td>\n",
              "      <td>0.061683-0.004496j</td>\n",
              "      <td>0.059333-0.005229j</td>\n",
              "      <td>0.055601-0.005266j</td>\n",
              "      <td>0.053397-0.004634j</td>\n",
              "      <td>0.051120-0.004001j</td>\n",
              "      <td>0.049108-0.002788j</td>\n",
              "    </tr>\n",
              "    <tr>\n",
              "      <th>070</th>\n",
              "      <td>070</td>\n",
              "      <td>1</td>\n",
              "      <td>0.069776-0.005429j</td>\n",
              "      <td>0.068026-0.004174j</td>\n",
              "      <td>0.066787-0.002856j</td>\n",
              "      <td>0.066142-0.002264j</td>\n",
              "      <td>0.065083-0.001689j</td>\n",
              "      <td>0.064663-0.001854j</td>\n",
              "      <td>0.064244-0.002077j</td>\n",
              "      <td>0.062799-0.003086j</td>\n",
              "      <td>0.061226-0.004091j</td>\n",
              "      <td>0.058823-0.004900j</td>\n",
              "      <td>0.055599-0.005055j</td>\n",
              "      <td>0.053120-0.004408j</td>\n",
              "      <td>0.051124-0.003760j</td>\n",
              "      <td>0.049217-0.002700j</td>\n",
              "    </tr>\n",
              "    <tr>\n",
              "      <th>060</th>\n",
              "      <td>060</td>\n",
              "      <td>1</td>\n",
              "      <td>0.068619-0.003835j</td>\n",
              "      <td>0.066856-0.003433j</td>\n",
              "      <td>0.065669-0.002385j</td>\n",
              "      <td>0.065318-0.001635j</td>\n",
              "      <td>0.064353-0.001256j</td>\n",
              "      <td>0.064194-0.001438j</td>\n",
              "      <td>0.063642-0.001943j</td>\n",
              "      <td>0.062633-0.002851j</td>\n",
              "      <td>0.060878-0.003915j</td>\n",
              "      <td>0.058778-0.004488j</td>\n",
              "      <td>0.055450-0.004770j</td>\n",
              "      <td>0.053168-0.004471j</td>\n",
              "      <td>0.051296-0.003754j</td>\n",
              "      <td>0.049280-0.002554j</td>\n",
              "    </tr>\n",
              "    <tr>\n",
              "      <th>...</th>\n",
              "      <td>...</td>\n",
              "      <td>...</td>\n",
              "      <td>...</td>\n",
              "      <td>...</td>\n",
              "      <td>...</td>\n",
              "      <td>...</td>\n",
              "      <td>...</td>\n",
              "      <td>...</td>\n",
              "      <td>...</td>\n",
              "      <td>...</td>\n",
              "      <td>...</td>\n",
              "      <td>...</td>\n",
              "      <td>...</td>\n",
              "      <td>...</td>\n",
              "      <td>...</td>\n",
              "      <td>...</td>\n",
              "    </tr>\n",
              "    <tr>\n",
              "      <th>050</th>\n",
              "      <td>050</td>\n",
              "      <td>13</td>\n",
              "      <td>0.068732-0.003121j</td>\n",
              "      <td>0.067499-0.002808j</td>\n",
              "      <td>0.066566-0.001802j</td>\n",
              "      <td>0.066398-0.001286j</td>\n",
              "      <td>0.065753-0.001306j</td>\n",
              "      <td>0.065406-0.001638j</td>\n",
              "      <td>0.064763-0.002284j</td>\n",
              "      <td>0.063175-0.003610j</td>\n",
              "      <td>0.061263-0.004570j</td>\n",
              "      <td>0.058690-0.005255j</td>\n",
              "      <td>0.055126-0.005326j</td>\n",
              "      <td>0.052614-0.004871j</td>\n",
              "      <td>0.050425-0.004149j</td>\n",
              "      <td>0.048196-0.003028j</td>\n",
              "    </tr>\n",
              "    <tr>\n",
              "      <th>040</th>\n",
              "      <td>040</td>\n",
              "      <td>13</td>\n",
              "      <td>0.068915-0.002994j</td>\n",
              "      <td>0.067912-0.002501j</td>\n",
              "      <td>0.067186-0.001574j</td>\n",
              "      <td>0.066984-0.001122j</td>\n",
              "      <td>0.066435-0.001243j</td>\n",
              "      <td>0.066161-0.001707j</td>\n",
              "      <td>0.065426-0.002295j</td>\n",
              "      <td>0.063928-0.003737j</td>\n",
              "      <td>0.061745-0.004823j</td>\n",
              "      <td>0.059156-0.005428j</td>\n",
              "      <td>0.055505-0.005409j</td>\n",
              "      <td>0.052845-0.004924j</td>\n",
              "      <td>0.050704-0.004224j</td>\n",
              "      <td>0.048486-0.002937j</td>\n",
              "    </tr>\n",
              "    <tr>\n",
              "      <th>030</th>\n",
              "      <td>030</td>\n",
              "      <td>13</td>\n",
              "      <td>0.069699-0.003092j</td>\n",
              "      <td>0.068567-0.002486j</td>\n",
              "      <td>0.067793-0.001612j</td>\n",
              "      <td>0.067615-0.001256j</td>\n",
              "      <td>0.067022-0.001355j</td>\n",
              "      <td>0.066679-0.001694j</td>\n",
              "      <td>0.066028-0.002365j</td>\n",
              "      <td>0.064383-0.003777j</td>\n",
              "      <td>0.062255-0.004865j</td>\n",
              "      <td>0.059631-0.005493j</td>\n",
              "      <td>0.055802-0.005580j</td>\n",
              "      <td>0.053215-0.005006j</td>\n",
              "      <td>0.051083-0.004229j</td>\n",
              "      <td>0.048782-0.002933j</td>\n",
              "    </tr>\n",
              "    <tr>\n",
              "      <th>020</th>\n",
              "      <td>020</td>\n",
              "      <td>13</td>\n",
              "      <td>0.070901-0.003276j</td>\n",
              "      <td>0.069618-0.002765j</td>\n",
              "      <td>0.068779-0.001774j</td>\n",
              "      <td>0.068610-0.001334j</td>\n",
              "      <td>0.067935-0.001466j</td>\n",
              "      <td>0.067522-0.001857j</td>\n",
              "      <td>0.066805-0.002502j</td>\n",
              "      <td>0.065131-0.003961j</td>\n",
              "      <td>0.062982-0.005092j</td>\n",
              "      <td>0.060092-0.005780j</td>\n",
              "      <td>0.056237-0.005597j</td>\n",
              "      <td>0.053793-0.005084j</td>\n",
              "      <td>0.051517-0.004185j</td>\n",
              "      <td>0.049226-0.002955j</td>\n",
              "    </tr>\n",
              "    <tr>\n",
              "      <th>010</th>\n",
              "      <td>010</td>\n",
              "      <td>13</td>\n",
              "      <td>0.074011-0.004292j</td>\n",
              "      <td>0.072539-0.003420j</td>\n",
              "      <td>0.071548-0.002388j</td>\n",
              "      <td>0.071018-0.001970j</td>\n",
              "      <td>0.070191-0.001974j</td>\n",
              "      <td>0.069458-0.002370j</td>\n",
              "      <td>0.068559-0.003093j</td>\n",
              "      <td>0.066522-0.004606j</td>\n",
              "      <td>0.063936-0.005608j</td>\n",
              "      <td>0.060867-0.006227j</td>\n",
              "      <td>0.056886-0.005825j</td>\n",
              "      <td>0.054247-0.005141j</td>\n",
              "      <td>0.052139-0.004326j</td>\n",
              "      <td>0.049798-0.003033j</td>\n",
              "    </tr>\n",
              "  </tbody>\n",
              "</table>\n",
              "<p>120 rows × 16 columns</p>\n",
              "</div>\n",
              "      <button class=\"colab-df-convert\" onclick=\"convertToInteractive('df-5abb5a3f-8f00-431d-8c69-49017ac835dd')\"\n",
              "              title=\"Convert this dataframe to an interactive table.\"\n",
              "              style=\"display:none;\">\n",
              "        \n",
              "  <svg xmlns=\"http://www.w3.org/2000/svg\" height=\"24px\"viewBox=\"0 0 24 24\"\n",
              "       width=\"24px\">\n",
              "    <path d=\"M0 0h24v24H0V0z\" fill=\"none\"/>\n",
              "    <path d=\"M18.56 5.44l.94 2.06.94-2.06 2.06-.94-2.06-.94-.94-2.06-.94 2.06-2.06.94zm-11 1L8.5 8.5l.94-2.06 2.06-.94-2.06-.94L8.5 2.5l-.94 2.06-2.06.94zm10 10l.94 2.06.94-2.06 2.06-.94-2.06-.94-.94-2.06-.94 2.06-2.06.94z\"/><path d=\"M17.41 7.96l-1.37-1.37c-.4-.4-.92-.59-1.43-.59-.52 0-1.04.2-1.43.59L10.3 9.45l-7.72 7.72c-.78.78-.78 2.05 0 2.83L4 21.41c.39.39.9.59 1.41.59.51 0 1.02-.2 1.41-.59l7.78-7.78 2.81-2.81c.8-.78.8-2.07 0-2.86zM5.41 20L4 18.59l7.72-7.72 1.47 1.35L5.41 20z\"/>\n",
              "  </svg>\n",
              "      </button>\n",
              "      \n",
              "  <style>\n",
              "    .colab-df-container {\n",
              "      display:flex;\n",
              "      flex-wrap:wrap;\n",
              "      gap: 12px;\n",
              "    }\n",
              "\n",
              "    .colab-df-convert {\n",
              "      background-color: #E8F0FE;\n",
              "      border: none;\n",
              "      border-radius: 50%;\n",
              "      cursor: pointer;\n",
              "      display: none;\n",
              "      fill: #1967D2;\n",
              "      height: 32px;\n",
              "      padding: 0 0 0 0;\n",
              "      width: 32px;\n",
              "    }\n",
              "\n",
              "    .colab-df-convert:hover {\n",
              "      background-color: #E2EBFA;\n",
              "      box-shadow: 0px 1px 2px rgba(60, 64, 67, 0.3), 0px 1px 3px 1px rgba(60, 64, 67, 0.15);\n",
              "      fill: #174EA6;\n",
              "    }\n",
              "\n",
              "    [theme=dark] .colab-df-convert {\n",
              "      background-color: #3B4455;\n",
              "      fill: #D2E3FC;\n",
              "    }\n",
              "\n",
              "    [theme=dark] .colab-df-convert:hover {\n",
              "      background-color: #434B5C;\n",
              "      box-shadow: 0px 1px 3px 1px rgba(0, 0, 0, 0.15);\n",
              "      filter: drop-shadow(0px 1px 2px rgba(0, 0, 0, 0.3));\n",
              "      fill: #FFFFFF;\n",
              "    }\n",
              "  </style>\n",
              "\n",
              "      <script>\n",
              "        const buttonEl =\n",
              "          document.querySelector('#df-5abb5a3f-8f00-431d-8c69-49017ac835dd button.colab-df-convert');\n",
              "        buttonEl.style.display =\n",
              "          google.colab.kernel.accessAllowed ? 'block' : 'none';\n",
              "\n",
              "        async function convertToInteractive(key) {\n",
              "          const element = document.querySelector('#df-5abb5a3f-8f00-431d-8c69-49017ac835dd');\n",
              "          const dataTable =\n",
              "            await google.colab.kernel.invokeFunction('convertToInteractive',\n",
              "                                                     [key], {});\n",
              "          if (!dataTable) return;\n",
              "\n",
              "          const docLinkHtml = 'Like what you see? Visit the ' +\n",
              "            '<a target=\"_blank\" href=https://colab.research.google.com/notebooks/data_table.ipynb>data table notebook</a>'\n",
              "            + ' to learn more about interactive tables.';\n",
              "          element.innerHTML = '';\n",
              "          dataTable['output_type'] = 'display_data';\n",
              "          await google.colab.output.renderOutput(dataTable, element);\n",
              "          const docLink = document.createElement('div');\n",
              "          docLink.innerHTML = docLinkHtml;\n",
              "          element.appendChild(docLink);\n",
              "        }\n",
              "      </script>\n",
              "    </div>\n",
              "  </div>\n",
              "  "
            ]
          },
          "metadata": {},
          "execution_count": 7
        }
      ]
    },
    {
      "cell_type": "code",
      "source": [
        "eis_features=dataset[eis_col_names]"
      ],
      "metadata": {
        "id": "tHVs8bgaTvOR"
      },
      "execution_count": 8,
      "outputs": []
    },
    {
      "cell_type": "markdown",
      "source": [
        "The 1D array s contains the singular values of a and u and vh are unitary. The rows of vh are the eigenvectors of  and the columns of u are the eigenvectors of . In both cases the corresponding (possibly non-zero) eigenvalues are given by s**2.\n",
        "\n",
        "https://numpy.org/doc/stable/reference/generated/numpy.linalg.svd.html\n"
      ],
      "metadata": {
        "id": "uIpTe7Ds0Uhb"
      }
    },
    {
      "cell_type": "code",
      "source": [
        "def pca(X):\n",
        "    mean = X.mean(axis=0) \n",
        "    center = X - mean \n",
        "    _, s, vh = np.linalg.svd(center/np.sqrt(X.shape[0])) \n",
        "\n",
        "    return s**2, vh"
      ],
      "metadata": {
        "id": "YqVMTJ6aixm7"
      },
      "execution_count": 9,
      "outputs": []
    },
    {
      "cell_type": "code",
      "source": [
        "eigen_values, eigen_vectors = pca(eis_features) # "
      ],
      "metadata": {
        "id": "rx0piRMfi50p"
      },
      "execution_count": 14,
      "outputs": []
    },
    {
      "cell_type": "code",
      "source": [
        "eigen_values.shape"
      ],
      "metadata": {
        "colab": {
          "base_uri": "https://localhost:8080/"
        },
        "id": "caNmDBixjE4u",
        "outputId": "ebf0168b-ce1e-4fbf-cd8c-f414a3313132"
      },
      "execution_count": 16,
      "outputs": [
        {
          "output_type": "execute_result",
          "data": {
            "text/plain": [
              "(14,)"
            ]
          },
          "metadata": {},
          "execution_count": 16
        }
      ]
    },
    {
      "cell_type": "code",
      "source": [
        "eigen_vectors.shape"
      ],
      "metadata": {
        "colab": {
          "base_uri": "https://localhost:8080/"
        },
        "id": "Mvr9KKCrv24w",
        "outputId": "19282758-81b0-43f9-a54a-0190c1f65778"
      },
      "execution_count": 17,
      "outputs": [
        {
          "output_type": "execute_result",
          "data": {
            "text/plain": [
              "(14, 14)"
            ]
          },
          "metadata": {},
          "execution_count": 17
        }
      ]
    },
    {
      "cell_type": "code",
      "source": [
        "#sort the eigenvalues in descending order\n",
        "sorted_index = np.argsort(eigen_values)[::-1]"
      ],
      "metadata": {
        "id": "IKw5fggO0on0"
      },
      "execution_count": 18,
      "outputs": []
    },
    {
      "cell_type": "code",
      "source": [
        "sorted_eigenvalue = eigen_values[sorted_index]\n",
        "#similarly sort the eigenvectors \n",
        "sorted_eigenvectors = eigen_vectors[:,sorted_index]"
      ],
      "metadata": {
        "id": "WiUcAtyXzB08"
      },
      "execution_count": 19,
      "outputs": []
    },
    {
      "cell_type": "code",
      "source": [
        "sorted_eigenvectors.shape"
      ],
      "metadata": {
        "id": "_8rOJVwh0vu5",
        "outputId": "501e1cd4-dfa9-461a-8bb3-987ce94249ea",
        "colab": {
          "base_uri": "https://localhost:8080/"
        }
      },
      "execution_count": 21,
      "outputs": [
        {
          "output_type": "execute_result",
          "data": {
            "text/plain": [
              "(14, 14)"
            ]
          },
          "metadata": {},
          "execution_count": 21
        }
      ]
    },
    {
      "cell_type": "code",
      "source": [
        "# select the first n eigenvectors, n is desired dimension\n",
        "# of our final reduced data.\n",
        " \n",
        "n_components = 2 #you can select any number of components.\n",
        "eigenvector_subset = sorted_eigenvectors[:,0:n_components]"
      ],
      "metadata": {
        "id": "DYlu7Pj806G0"
      },
      "execution_count": null,
      "outputs": []
    },
    {
      "cell_type": "code",
      "source": [
        "# select the first n eigenvectors, n is desired dimension\n",
        "# of our final reduced data.\n",
        " \n",
        "n_components = 2 #you can select any number of components.\n",
        "eigenvector_subset = sorted_eigenvectors[:,0:n_components]"
      ],
      "metadata": {
        "id": "WBrAo_3-1Ddl"
      },
      "execution_count": 22,
      "outputs": []
    },
    {
      "cell_type": "code",
      "source": [
        "# mean Centering the data  \n",
        "X_meaned = eis_features - np.mean(eis_features , axis = 0)"
      ],
      "metadata": {
        "id": "jDC8jFxe1dH6"
      },
      "execution_count": 24,
      "outputs": []
    },
    {
      "cell_type": "code",
      "source": [
        "# calculating the covariance matrix of the mean-centered data.\n",
        "cov_mat = np.cov(X_meaned , rowvar = False)"
      ],
      "metadata": {
        "id": "GD-8boVd1mgY"
      },
      "execution_count": 25,
      "outputs": []
    },
    {
      "cell_type": "code",
      "source": [
        "#Transform the data \n",
        "X_reduced = np.dot(eigenvector_subset.transpose(),X_meaned.transpose()).transpose()\n"
      ],
      "metadata": {
        "id": "VDn-52GU1FWH"
      },
      "execution_count": 27,
      "outputs": []
    },
    {
      "cell_type": "code",
      "source": [
        "X_reduced.shape"
      ],
      "metadata": {
        "id": "CT2t0yQz11rB",
        "outputId": "de1db58e-f404-408e-f18f-4bc3808d1ac9",
        "colab": {
          "base_uri": "https://localhost:8080/"
        }
      },
      "execution_count": 28,
      "outputs": [
        {
          "output_type": "execute_result",
          "data": {
            "text/plain": [
              "(120, 2)"
            ]
          },
          "metadata": {},
          "execution_count": 28
        }
      ]
    },
    {
      "cell_type": "code",
      "source": [
        "X_reduced"
      ],
      "metadata": {
        "id": "lOxaz5O917yT",
        "outputId": "83bbee1b-26bc-4ead-a0ac-d8a199846b1d",
        "colab": {
          "base_uri": "https://localhost:8080/"
        }
      },
      "execution_count": 30,
      "outputs": [
        {
          "output_type": "execute_result",
          "data": {
            "text/plain": [
              "array([[-2.44462832e-03+1.33066559e-04j, -1.74616985e-03+7.03328393e-04j],\n",
              "       [ 8.44697689e-05+4.62576186e-04j,  8.00564648e-04+4.04001775e-04j],\n",
              "       [ 9.80209072e-04+5.59235300e-04j,  1.82799205e-03+3.93954978e-04j],\n",
              "       [ 1.86321638e-03+6.42837584e-04j,  2.49811223e-03+1.16939394e-04j],\n",
              "       [ 2.61885944e-03+8.49927117e-05j,  2.79162808e-03-5.76463662e-04j],\n",
              "       [ 3.06648131e-03-3.00383777e-04j,  2.87578680e-03-8.23536403e-04j],\n",
              "       [ 2.74372558e-03-3.13548392e-04j,  2.64838025e-03-8.45460660e-04j],\n",
              "       [ 2.17847223e-03-2.58974077e-04j,  1.99821303e-03-8.39298973e-04j],\n",
              "       [ 2.03136406e-05-2.92177472e-04j, -9.15249940e-05-3.00153082e-04j],\n",
              "       [-4.78204509e-03+1.00330863e-03j, -4.13575401e-03+2.07501704e-03j],\n",
              "       [ 1.53848555e-04+2.85326922e-05j,  8.18829659e-05+6.86648234e-05j],\n",
              "       [ 5.28014707e-04+3.39411327e-04j,  8.69306999e-04+3.39015609e-04j],\n",
              "       [ 1.39942693e-03+4.87974543e-04j,  1.73432217e-03+2.02419485e-04j],\n",
              "       [ 1.99247835e-03+6.83854512e-04j,  2.27946373e-03+2.61272206e-04j],\n",
              "       [ 2.22247750e-03+2.39236123e-04j,  2.40594013e-03-1.22316138e-04j],\n",
              "       [ 2.84794190e-03-2.92589859e-04j,  2.56063945e-03-6.81721043e-04j],\n",
              "       [ 2.67551374e-03-5.25648576e-04j,  2.15260942e-03-7.64163816e-04j],\n",
              "       [ 1.85103243e-03-3.30934899e-04j,  1.42485034e-03-6.46269201e-04j],\n",
              "       [-1.01743364e-04-2.10322928e-04j, -2.85889655e-04-2.22122205e-04j],\n",
              "       [-4.41755482e-03+8.32041534e-04j, -4.39036717e-03+1.56530449e-03j],\n",
              "       [-5.63755783e-04-8.64478723e-05j,  1.58771037e-04+8.46008934e-05j],\n",
              "       [ 1.99181991e-03+2.93747531e-04j,  2.69361024e-03+3.92980434e-05j],\n",
              "       [ 3.04531376e-03+3.83649837e-04j,  3.70074115e-03+1.03199818e-04j],\n",
              "       [ 3.61478082e-03+5.82148559e-04j,  4.32742402e-03-3.87170654e-05j],\n",
              "       [ 4.12168429e-03+5.86327246e-05j,  4.60815239e-03-6.08041691e-04j],\n",
              "       [ 4.67314010e-03-2.80419039e-04j,  4.72301539e-03-9.99820950e-04j],\n",
              "       [ 3.19954114e-03-3.49386573e-04j,  3.32697942e-03-9.96530345e-04j],\n",
              "       [ 2.34064210e-03-4.47916724e-04j,  2.54199600e-03-6.72085617e-04j],\n",
              "       [ 1.12961761e-03-2.13976288e-04j,  1.38932806e-03-3.84350452e-04j],\n",
              "       [-2.12447370e-03+4.77649688e-04j, -1.50836870e-03+7.38608387e-04j],\n",
              "       [ 1.88227762e-03-9.92379240e-05j,  2.44786871e-03-1.10182244e-04j],\n",
              "       [ 2.51483694e-03+3.04634368e-04j,  3.21542887e-03+9.10464672e-05j],\n",
              "       [ 3.62372185e-03+5.84065617e-04j,  4.06876616e-03-1.04405924e-04j],\n",
              "       [ 4.09869374e-03+4.44469039e-04j,  4.82169165e-03-5.49409275e-05j],\n",
              "       [ 4.46312422e-03+1.81535800e-04j,  5.15569107e-03-4.77317109e-04j],\n",
              "       [ 5.07201731e-03-3.40780037e-04j,  5.19974510e-03-9.60568428e-04j],\n",
              "       [ 4.59166692e-03-4.26881079e-04j,  4.68297309e-03-1.06608264e-03j],\n",
              "       [ 3.71288003e-03-2.88994734e-04j,  3.68224521e-03-9.40687112e-04j],\n",
              "       [ 1.76792300e-03-3.32648738e-04j,  2.23968159e-03-4.83848767e-04j],\n",
              "       [-1.52429249e-03+6.69326130e-04j, -9.38246110e-04+9.25766918e-04j],\n",
              "       [-3.50021365e-03+1.02963903e-04j, -3.01426835e-03+6.26864948e-04j],\n",
              "       [-1.52011611e-03+3.03992847e-04j, -9.77547404e-04+5.51574261e-04j],\n",
              "       [ 1.68460659e-04+3.88856645e-04j,  5.98955907e-04+4.39432995e-04j],\n",
              "       [ 7.40738980e-04+4.37218712e-04j,  1.17680268e-03+2.91501812e-04j],\n",
              "       [ 5.95445537e-04-1.44685393e-05j,  1.01482020e-03-1.54609416e-04j],\n",
              "       [ 1.12147004e-03-3.01277119e-04j,  1.05051366e-03-3.95189742e-04j],\n",
              "       [ 7.42284377e-04-4.68558040e-04j,  6.55860005e-04-5.43203537e-04j],\n",
              "       [ 1.95322377e-04-3.55182075e-04j, -5.10176140e-05-4.50589632e-04j],\n",
              "       [-1.03659991e-03-4.03150654e-04j, -9.83733432e-04-1.95443704e-04j],\n",
              "       [-4.13789485e-03+4.19664771e-04j, -3.70125431e-03+1.10601373e-03j],\n",
              "       [-8.48543566e-04+2.32228072e-05j, -3.96783145e-04+3.34619014e-04j],\n",
              "       [ 5.45074735e-04+4.06313418e-04j,  1.22193731e-03+2.75575659e-04j],\n",
              "       [ 1.06841567e-03+4.10093635e-04j,  1.77267581e-03+3.14592465e-04j],\n",
              "       [ 1.40854809e-03+6.02718029e-04j,  2.09037673e-03+3.11109880e-04j],\n",
              "       [ 1.81754808e-03-2.29314867e-05j,  2.42713163e-03-1.85217283e-04j],\n",
              "       [ 2.35916961e-03-2.96778698e-04j,  2.60774487e-03-7.01926138e-04j],\n",
              "       [ 2.06101122e-03-5.38965231e-04j,  2.03709505e-03-7.63262600e-04j],\n",
              "       [ 1.50108806e-03-4.28509178e-04j,  1.50177097e-03-6.58230305e-04j],\n",
              "       [ 9.71406073e-04-5.94280677e-04j,  9.58218345e-04-5.58799977e-04j],\n",
              "       [-1.13360978e-03+4.92124242e-05j, -6.13672397e-04+1.71929894e-04j],\n",
              "       [ 5.15865107e-04+3.42833146e-05j,  4.90402465e-04+5.22129321e-05j],\n",
              "       [ 1.08775826e-03+2.74758280e-04j,  1.34144917e-03+4.74225455e-05j],\n",
              "       [ 1.76359594e-03+2.05622511e-04j,  2.06314110e-03+2.12208391e-05j],\n",
              "       [ 2.41904570e-03+3.02271507e-04j,  2.70772250e-03-2.03186664e-04j],\n",
              "       [ 2.94848779e-03-1.92597860e-04j,  2.92659678e-03-6.24473994e-04j],\n",
              "       [ 3.23947621e-03-4.48026118e-04j,  2.76212363e-03-1.04474795e-03j],\n",
              "       [ 3.00033013e-03-4.94218973e-04j,  2.56079377e-03-9.51002145e-04j],\n",
              "       [ 2.87920943e-03-5.00703938e-04j,  2.43280235e-03-1.02021177e-03j],\n",
              "       [ 6.44975426e-04-4.42524685e-04j,  4.68368703e-04-5.21741418e-04j],\n",
              "       [-2.17577323e-03+2.12757290e-04j, -1.91839807e-03+5.44468030e-04j],\n",
              "       [-1.38655677e-03-5.51598193e-05j, -1.53883992e-03+3.63682447e-04j],\n",
              "       [-5.33627200e-05+2.49119051e-04j, -5.30118294e-05+1.78563154e-04j],\n",
              "       [ 6.67189053e-04+4.12356615e-04j,  5.78111150e-04+1.76174948e-04j],\n",
              "       [ 1.35539244e-03+3.98657062e-04j,  1.17226342e-03+1.71452265e-04j],\n",
              "       [ 1.46949899e-03-8.65818820e-05j,  1.21478799e-03-5.36691865e-04j],\n",
              "       [ 2.37198384e-04-3.61853963e-04j, -3.60241278e-04-6.46464346e-04j],\n",
              "       [-3.89860696e-04-3.94108140e-04j, -8.17500738e-04-5.33694090e-04j],\n",
              "       [-9.78969655e-04-4.21060459e-04j, -1.57362343e-03-3.51849680e-04j],\n",
              "       [-2.01027482e-03-3.70860089e-04j, -2.64095675e-03-7.04164437e-05j],\n",
              "       [-5.14973100e-03+2.56115828e-04j, -5.21704364e-03+8.54517917e-04j],\n",
              "       [ 8.07880826e-04-5.65576008e-05j,  9.84048131e-04+1.34733841e-05j],\n",
              "       [ 1.17212053e-03+2.08514502e-04j,  1.61342467e-03+1.37372602e-04j],\n",
              "       [ 1.61224963e-03+5.34915844e-04j,  2.12343440e-03+2.02888748e-04j],\n",
              "       [ 8.55950598e-04+5.71718444e-04j,  1.53634512e-03+4.38278691e-04j],\n",
              "       [ 7.95249917e-04+1.53638262e-05j,  1.16752385e-03-1.09940821e-04j],\n",
              "       [ 1.08288481e-03-4.73631169e-04j,  1.12696366e-03-4.06942881e-04j],\n",
              "       [ 6.85262902e-04-5.01295053e-04j,  6.02200208e-04-5.92980172e-04j],\n",
              "       [-2.59486641e-05-5.58645303e-04j,  3.42729269e-05-3.87375793e-04j],\n",
              "       [-9.70077017e-04-4.52028013e-04j, -8.74749130e-04-6.65636720e-05j],\n",
              "       [-3.31734558e-03+1.50825098e-04j, -2.70581861e-03+6.61316820e-04j],\n",
              "       [-1.02540636e-02-5.92004920e-05j, -1.23461302e-02+1.32779628e-03j],\n",
              "       [-1.09553236e-02+2.28856059e-04j, -1.27884296e-02+1.61153855e-03j],\n",
              "       [-1.07349146e-02+4.00693421e-04j, -1.25640808e-02+1.70934480e-03j],\n",
              "       [-1.06556421e-02+4.02698408e-04j, -1.24290375e-02+1.64867764e-03j],\n",
              "       [-1.05813507e-02-7.81563462e-05j, -1.25764493e-02+1.16735364e-03j],\n",
              "       [-1.04013268e-02-4.68670416e-04j, -1.27500460e-02+9.37978689e-04j],\n",
              "       [-1.07855963e-02-5.08150443e-04j, -1.32123533e-02+9.40311298e-04j],\n",
              "       [-1.15524838e-02-5.29014397e-04j, -1.39649311e-02+9.93203967e-04j],\n",
              "       [-1.28823068e-02-3.87083198e-04j, -1.51384588e-02+1.37297367e-03j],\n",
              "       [-1.62413014e-02+2.94855634e-04j, -1.80401747e-02+2.45056067e-03j],\n",
              "       [ 2.29983970e-03-2.12777701e-05j,  2.48761996e-03-1.24247890e-04j],\n",
              "       [ 1.70283123e-03+3.60274205e-04j,  2.15263135e-03+9.64580767e-05j],\n",
              "       [ 1.93885607e-03+5.08074097e-04j,  2.48522714e-03+2.59914064e-04j],\n",
              "       [ 2.38320360e-03+5.54886067e-04j,  2.88369860e-03+1.47746400e-04j],\n",
              "       [ 2.96426779e-03-2.74390858e-05j,  3.24174932e-03-4.25383844e-04j],\n",
              "       [ 3.46710448e-03-3.35133772e-04j,  3.33022592e-03-7.45696177e-04j],\n",
              "       [ 3.02299755e-03-4.99971624e-04j,  2.88372785e-03-8.55916254e-04j],\n",
              "       [ 2.51065798e-03-5.08234431e-04j,  2.33618027e-03-7.78796599e-04j],\n",
              "       [ 1.78799026e-03-4.85502077e-04j,  1.63757798e-03-6.07058374e-04j],\n",
              "       [ 9.13490440e-05-4.99740960e-05j,  2.57500931e-04-2.65292949e-05j],\n",
              "       [ 8.00611950e-07+3.72543940e-05j,  2.67981381e-04+2.88394326e-04j],\n",
              "       [ 7.97539133e-04+3.11594990e-04j,  1.30885959e-03+2.79478053e-04j],\n",
              "       [ 1.16326755e-03+5.30728764e-04j,  1.69866245e-03+3.09664763e-04j],\n",
              "       [ 1.42158729e-03+5.31475758e-04j,  1.85424423e-03+3.25969211e-04j],\n",
              "       [ 1.79135024e-03-3.82273998e-05j,  2.04200593e-03-2.70506690e-04j],\n",
              "       [ 2.14543727e-03-4.62187628e-04j,  2.11597093e-03-6.88468068e-04j],\n",
              "       [ 1.81476045e-03-5.74306113e-04j,  1.61066478e-03-7.26247570e-04j],\n",
              "       [ 1.35522166e-03-5.30045038e-04j,  1.24515296e-03-5.77110539e-04j],\n",
              "       [ 6.37899851e-04-4.85826396e-04j,  5.89670807e-04-4.07141303e-04j],\n",
              "       [-1.26504900e-03+6.37693207e-05j, -1.03896117e-03+3.60880279e-04j]])"
            ]
          },
          "metadata": {},
          "execution_count": 30
        }
      ]
    }
  ]
}