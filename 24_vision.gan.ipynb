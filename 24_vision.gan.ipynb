{
  "cells": [
    {
      "cell_type": "code",
      "execution_count": 1,
      "metadata": {
        "id": "rLJ7Ultf87j4",
        "outputId": "9f59e6bb-7aca-437a-a575-db7a32372e3c",
        "colab": {
          "base_uri": "https://localhost:8080/"
        }
      },
      "outputs": [
        {
          "output_type": "stream",
          "name": "stdout",
          "text": [
            "\u001b[31mERROR: pip's dependency resolver does not currently take into account all the packages that are installed. This behaviour is the source of the following dependency conflicts.\n",
            "nbdev 1.2.8 requires fastcore>=1.4.1, but you have fastcore 1.3.29 which is incompatible.\u001b[0m\n"
          ]
        }
      ],
      "source": [
        "#hide\n",
        "#skip\n",
        "! [ -e /content ] && pip install -Uqq fastai==2.5.3  # upgrade fastai on colab"
      ]
    },
    {
      "cell_type": "code",
      "execution_count": 2,
      "metadata": {
        "id": "hgDC2ef_87j7"
      },
      "outputs": [],
      "source": [
        "#all_slow"
      ]
    },
    {
      "cell_type": "code",
      "execution_count": 3,
      "metadata": {
        "id": "pLbnFq5-87j7"
      },
      "outputs": [],
      "source": [
        "#export\n",
        "from fastai.basics import *\n",
        "from fastai.vision.all import *"
      ]
    },
    {
      "cell_type": "code",
      "execution_count": 4,
      "metadata": {
        "id": "oo2NeDSq87j8"
      },
      "outputs": [],
      "source": [
        "#default_exp vision.gan\n",
        "#default_cls_lvl 3"
      ]
    },
    {
      "cell_type": "code",
      "source": [
        "!pip install nbdev"
      ],
      "metadata": {
        "id": "iCy56-Pn9VLZ",
        "outputId": "660c355d-4b0d-4925-b75e-1764b0cc0f6d",
        "colab": {
          "base_uri": "https://localhost:8080/",
          "height": 1000
        }
      },
      "execution_count": 5,
      "outputs": [
        {
          "output_type": "stream",
          "name": "stdout",
          "text": [
            "Requirement already satisfied: nbdev in /usr/local/lib/python3.7/dist-packages (1.2.8)\n",
            "Requirement already satisfied: pip in /usr/local/lib/python3.7/dist-packages (from nbdev) (21.1.3)\n",
            "Requirement already satisfied: jupyter in /usr/local/lib/python3.7/dist-packages (from nbdev) (1.0.0)\n",
            "Requirement already satisfied: jupyter-client<8 in /usr/local/lib/python3.7/dist-packages (from nbdev) (7.3.0)\n",
            "Requirement already satisfied: packaging in /usr/local/lib/python3.7/dist-packages (from nbdev) (21.3)\n",
            "Requirement already satisfied: ghapi in /usr/local/lib/python3.7/dist-packages (from nbdev) (0.1.20)\n",
            "Collecting fastcore>=1.4.1\n",
            "  Using cached fastcore-1.4.2-py3-none-any.whl (60 kB)\n",
            "Requirement already satisfied: nbformat>=4.4.0 in /usr/local/lib/python3.7/dist-packages (from nbdev) (5.3.0)\n",
            "Requirement already satisfied: nbconvert>=6.1 in /usr/local/lib/python3.7/dist-packages (from nbdev) (6.5.0)\n",
            "Requirement already satisfied: fastrelease in /usr/local/lib/python3.7/dist-packages (from nbdev) (0.1.16)\n",
            "Requirement already satisfied: Jinja2<3.1.0 in /usr/local/lib/python3.7/dist-packages (from nbdev) (3.0.3)\n",
            "Requirement already satisfied: ipykernel in /usr/local/lib/python3.7/dist-packages (from nbdev) (4.10.1)\n",
            "Requirement already satisfied: pyyaml in /usr/local/lib/python3.7/dist-packages (from nbdev) (3.13)\n",
            "Requirement already satisfied: MarkupSafe>=2.0 in /usr/local/lib/python3.7/dist-packages (from Jinja2<3.1.0->nbdev) (2.0.1)\n",
            "Requirement already satisfied: traitlets in /usr/local/lib/python3.7/dist-packages (from jupyter-client<8->nbdev) (5.1.1)\n",
            "Requirement already satisfied: python-dateutil>=2.8.2 in /usr/local/lib/python3.7/dist-packages (from jupyter-client<8->nbdev) (2.8.2)\n",
            "Requirement already satisfied: entrypoints in /usr/local/lib/python3.7/dist-packages (from jupyter-client<8->nbdev) (0.4)\n",
            "Requirement already satisfied: jupyter-core>=4.9.2 in /usr/local/lib/python3.7/dist-packages (from jupyter-client<8->nbdev) (4.10.0)\n",
            "Requirement already satisfied: pyzmq>=22.3 in /usr/local/lib/python3.7/dist-packages (from jupyter-client<8->nbdev) (22.3.0)\n",
            "Requirement already satisfied: nest-asyncio>=1.5.4 in /usr/local/lib/python3.7/dist-packages (from jupyter-client<8->nbdev) (1.5.5)\n",
            "Requirement already satisfied: tornado>=6.0 in /usr/local/lib/python3.7/dist-packages (from jupyter-client<8->nbdev) (6.1)\n",
            "Requirement already satisfied: beautifulsoup4 in /usr/local/lib/python3.7/dist-packages (from nbconvert>=6.1->nbdev) (4.6.3)\n",
            "Requirement already satisfied: pygments>=2.4.1 in /usr/local/lib/python3.7/dist-packages (from nbconvert>=6.1->nbdev) (2.6.1)\n",
            "Requirement already satisfied: jupyterlab-pygments in /usr/local/lib/python3.7/dist-packages (from nbconvert>=6.1->nbdev) (0.2.2)\n",
            "Requirement already satisfied: tinycss2 in /usr/local/lib/python3.7/dist-packages (from nbconvert>=6.1->nbdev) (1.1.1)\n",
            "Requirement already satisfied: nbclient>=0.5.0 in /usr/local/lib/python3.7/dist-packages (from nbconvert>=6.1->nbdev) (0.6.0)\n",
            "Requirement already satisfied: mistune<2,>=0.8.1 in /usr/local/lib/python3.7/dist-packages (from nbconvert>=6.1->nbdev) (0.8.4)\n",
            "Requirement already satisfied: bleach in /usr/local/lib/python3.7/dist-packages (from nbconvert>=6.1->nbdev) (5.0.0)\n",
            "Requirement already satisfied: defusedxml in /usr/local/lib/python3.7/dist-packages (from nbconvert>=6.1->nbdev) (0.7.1)\n",
            "Requirement already satisfied: pandocfilters>=1.4.1 in /usr/local/lib/python3.7/dist-packages (from nbconvert>=6.1->nbdev) (1.5.0)\n",
            "Requirement already satisfied: fastjsonschema in /usr/local/lib/python3.7/dist-packages (from nbformat>=4.4.0->nbdev) (2.15.3)\n",
            "Requirement already satisfied: jsonschema>=2.6 in /usr/local/lib/python3.7/dist-packages (from nbformat>=4.4.0->nbdev) (4.3.3)\n",
            "Requirement already satisfied: importlib-metadata in /usr/local/lib/python3.7/dist-packages (from jsonschema>=2.6->nbformat>=4.4.0->nbdev) (4.11.3)\n",
            "Requirement already satisfied: typing-extensions in /usr/local/lib/python3.7/dist-packages (from jsonschema>=2.6->nbformat>=4.4.0->nbdev) (4.2.0)\n",
            "Requirement already satisfied: importlib-resources>=1.4.0 in /usr/local/lib/python3.7/dist-packages (from jsonschema>=2.6->nbformat>=4.4.0->nbdev) (5.7.1)\n",
            "Requirement already satisfied: attrs>=17.4.0 in /usr/local/lib/python3.7/dist-packages (from jsonschema>=2.6->nbformat>=4.4.0->nbdev) (21.4.0)\n",
            "Requirement already satisfied: pyrsistent!=0.17.0,!=0.17.1,!=0.17.2,>=0.14.0 in /usr/local/lib/python3.7/dist-packages (from jsonschema>=2.6->nbformat>=4.4.0->nbdev) (0.18.1)\n",
            "Requirement already satisfied: zipp>=3.1.0 in /usr/local/lib/python3.7/dist-packages (from importlib-resources>=1.4.0->jsonschema>=2.6->nbformat>=4.4.0->nbdev) (3.8.0)\n",
            "Requirement already satisfied: six>=1.5 in /usr/local/lib/python3.7/dist-packages (from python-dateutil>=2.8.2->jupyter-client<8->nbdev) (1.15.0)\n",
            "Requirement already satisfied: webencodings in /usr/local/lib/python3.7/dist-packages (from bleach->nbconvert>=6.1->nbdev) (0.5.1)\n",
            "Requirement already satisfied: ipython>=4.0.0 in /usr/local/lib/python3.7/dist-packages (from ipykernel->nbdev) (5.5.0)\n",
            "Requirement already satisfied: simplegeneric>0.8 in /usr/local/lib/python3.7/dist-packages (from ipython>=4.0.0->ipykernel->nbdev) (0.8.1)\n",
            "Requirement already satisfied: pickleshare in /usr/local/lib/python3.7/dist-packages (from ipython>=4.0.0->ipykernel->nbdev) (0.7.5)\n",
            "Requirement already satisfied: prompt-toolkit<2.0.0,>=1.0.4 in /usr/local/lib/python3.7/dist-packages (from ipython>=4.0.0->ipykernel->nbdev) (1.0.18)\n",
            "Requirement already satisfied: pexpect in /usr/local/lib/python3.7/dist-packages (from ipython>=4.0.0->ipykernel->nbdev) (4.8.0)\n",
            "Requirement already satisfied: setuptools>=18.5 in /usr/local/lib/python3.7/dist-packages (from ipython>=4.0.0->ipykernel->nbdev) (57.4.0)\n",
            "Requirement already satisfied: decorator in /usr/local/lib/python3.7/dist-packages (from ipython>=4.0.0->ipykernel->nbdev) (4.4.2)\n",
            "Requirement already satisfied: wcwidth in /usr/local/lib/python3.7/dist-packages (from prompt-toolkit<2.0.0,>=1.0.4->ipython>=4.0.0->ipykernel->nbdev) (0.2.5)\n",
            "Requirement already satisfied: qtconsole in /usr/local/lib/python3.7/dist-packages (from jupyter->nbdev) (5.3.0)\n",
            "Requirement already satisfied: ipywidgets in /usr/local/lib/python3.7/dist-packages (from jupyter->nbdev) (7.7.0)\n",
            "Requirement already satisfied: jupyter-console in /usr/local/lib/python3.7/dist-packages (from jupyter->nbdev) (5.2.0)\n",
            "Requirement already satisfied: notebook in /usr/local/lib/python3.7/dist-packages (from jupyter->nbdev) (5.3.1)\n",
            "Requirement already satisfied: widgetsnbextension~=3.6.0 in /usr/local/lib/python3.7/dist-packages (from ipywidgets->jupyter->nbdev) (3.6.0)\n",
            "Requirement already satisfied: jupyterlab-widgets>=1.0.0 in /usr/local/lib/python3.7/dist-packages (from ipywidgets->jupyter->nbdev) (1.1.0)\n",
            "Requirement already satisfied: ipython-genutils~=0.2.0 in /usr/local/lib/python3.7/dist-packages (from ipywidgets->jupyter->nbdev) (0.2.0)\n",
            "Requirement already satisfied: Send2Trash in /usr/local/lib/python3.7/dist-packages (from notebook->jupyter->nbdev) (1.8.0)\n",
            "Requirement already satisfied: terminado>=0.8.1 in /usr/local/lib/python3.7/dist-packages (from notebook->jupyter->nbdev) (0.13.3)\n",
            "Requirement already satisfied: ptyprocess in /usr/local/lib/python3.7/dist-packages (from terminado>=0.8.1->notebook->jupyter->nbdev) (0.7.0)\n",
            "Requirement already satisfied: pyparsing!=3.0.5,>=2.0.2 in /usr/local/lib/python3.7/dist-packages (from packaging->nbdev) (3.0.8)\n",
            "Requirement already satisfied: qtpy>=2.0.1 in /usr/local/lib/python3.7/dist-packages (from qtconsole->jupyter->nbdev) (2.0.1)\n",
            "Installing collected packages: fastcore\n",
            "  Attempting uninstall: fastcore\n",
            "    Found existing installation: fastcore 1.3.29\n",
            "    Uninstalling fastcore-1.3.29:\n",
            "      Successfully uninstalled fastcore-1.3.29\n",
            "\u001b[31mERROR: pip's dependency resolver does not currently take into account all the packages that are installed. This behaviour is the source of the following dependency conflicts.\n",
            "fastai 2.5.3 requires fastcore<1.4,>=1.3.22, but you have fastcore 1.4.2 which is incompatible.\u001b[0m\n",
            "Successfully installed fastcore-1.4.2\n"
          ]
        },
        {
          "output_type": "display_data",
          "data": {
            "application/vnd.colab-display-data+json": {
              "pip_warning": {
                "packages": [
                  "fastcore"
                ]
              }
            }
          },
          "metadata": {}
        }
      ]
    },
    {
      "cell_type": "code",
      "execution_count": 6,
      "metadata": {
        "id": "nnpSB8w687j8"
      },
      "outputs": [],
      "source": [
        "#hide\n",
        "from nbdev.showdoc import *"
      ]
    },
    {
      "cell_type": "markdown",
      "metadata": {
        "id": "wPMeSlCw87j9"
      },
      "source": [
        "# GAN\n",
        "\n",
        "> Basic support for [Generative Adversarial Networks](https://arxiv.org/abs/1406.2661)"
      ]
    },
    {
      "cell_type": "markdown",
      "metadata": {
        "id": "rlJfe4Rq87j-"
      },
      "source": [
        "GAN stands for [Generative Adversarial Nets](https://arxiv.org/pdf/1406.2661.pdf) and were invented by Ian Goodfellow. The concept is that we train two models at the same time: a generator and a critic. The generator will try to make new images similar to the ones in a dataset, and the critic will try to classify real images from the ones the generator does. The generator returns images, the critic a single number (usually a probability, 0. for fake images and 1. for real ones).\n",
        "\n",
        "We train them against each other in the sense that at each step (more or less), we:\n",
        "1. Freeze the generator and train the critic for one step by:\n",
        "  - getting one batch of true images (let's call that `real`)\n",
        "  - generating one batch of fake images (let's call that `fake`)\n",
        "  - have the critic evaluate each batch and compute a loss function from that; the important part is that it rewards positively the detection of real images and penalizes the fake ones\n",
        "  - update the weights of the critic with the gradients of this loss\n",
        "  \n",
        "  \n",
        "2. Freeze the critic and train the generator for one step by:\n",
        "  - generating one batch of fake images\n",
        "  - evaluate the critic on it\n",
        "  - return a loss that rewards positively the critic thinking those are real images\n",
        "  - update the weights of the generator with the gradients of this loss"
      ]
    },
    {
      "cell_type": "markdown",
      "metadata": {
        "id": "iKAYfcaR87j-"
      },
      "source": [
        "> Note: The fastai library provides support for training GANs through the GANTrainer, but doesn't include more than basic models."
      ]
    },
    {
      "cell_type": "markdown",
      "metadata": {
        "id": "OPo_WM8T87j_"
      },
      "source": [
        "## Wrapping the modules"
      ]
    },
    {
      "cell_type": "code",
      "execution_count": 7,
      "metadata": {
        "id": "-eu9UHNr87j_"
      },
      "outputs": [],
      "source": [
        "#export\n",
        "class GANModule(Module):\n",
        "    \"Wrapper around a `generator` and a `critic` to create a GAN.\"\n",
        "    def __init__(self, generator=None, critic=None, gen_mode=False):\n",
        "        if generator is not None: self.generator=generator\n",
        "        if critic    is not None: self.critic   =critic\n",
        "        store_attr('gen_mode')\n",
        "\n",
        "    def forward(self, *args):\n",
        "        return self.generator(*args) if self.gen_mode else self.critic(*args)\n",
        "\n",
        "    def switch(self, gen_mode=None):\n",
        "        \"Put the module in generator mode if `gen_mode`, in critic mode otherwise.\"\n",
        "        self.gen_mode = (not self.gen_mode) if gen_mode is None else gen_mode"
      ]
    },
    {
      "cell_type": "markdown",
      "metadata": {
        "id": "4odszQJ987kA"
      },
      "source": [
        "This is just a shell to contain the two models. When called, it will either delegate the input to the `generator` or the `critic` depending of the value of `gen_mode`."
      ]
    },
    {
      "cell_type": "markdown",
      "metadata": {
        "id": "UCyl6Kj587kB"
      },
      "source": [
        "By default (leaving `gen_mode` to `None`), this will put the module in the other mode (critic mode if it was in generator mode and vice versa)."
      ]
    },
    {
      "cell_type": "code",
      "execution_count": 9,
      "metadata": {
        "id": "doCpyKQi87kB"
      },
      "outputs": [],
      "source": [
        "#export\n",
        "@delegates(ConvLayer.__init__)\n",
        "def basic_critic(in_size, n_channels, n_features=64, n_extra_layers=0, norm_type=NormType.Batch, **kwargs):\n",
        "    \"A basic critic for images `n_channels` x `in_size` x `in_size`.\"\n",
        "    layers = [ConvLayer(n_channels, n_features, 4, 2, 1, norm_type=None, **kwargs)]\n",
        "    cur_size, cur_ftrs = in_size//2, n_features\n",
        "    layers += [ConvLayer(cur_ftrs, cur_ftrs, 3, 1, norm_type=norm_type, **kwargs) for _ in range(n_extra_layers)]\n",
        "    while cur_size > 4:\n",
        "        layers.append(ConvLayer(cur_ftrs, cur_ftrs*2, 4, 2, 1, norm_type=norm_type, **kwargs))\n",
        "        cur_ftrs *= 2 ; cur_size //= 2\n",
        "    init = kwargs.get('init', nn.init.kaiming_normal_)\n",
        "    layers += [init_default(nn.Conv2d(cur_ftrs, 1, 4, padding=0), init), Flatten()]\n",
        "    return nn.Sequential(*layers)"
      ]
    },
    {
      "cell_type": "code",
      "execution_count": 10,
      "metadata": {
        "id": "a9zIrvBv87kB"
      },
      "outputs": [],
      "source": [
        "#export\n",
        "class AddChannels(Module):\n",
        "    \"Add `n_dim` channels at the end of the input.\"\n",
        "    def __init__(self, n_dim): self.n_dim=n_dim\n",
        "    def forward(self, x): return x.view(*(list(x.shape)+[1]*self.n_dim))"
      ]
    },
    {
      "cell_type": "code",
      "execution_count": 11,
      "metadata": {
        "id": "z9CwHXHz87kC"
      },
      "outputs": [],
      "source": [
        "#export\n",
        "@delegates(ConvLayer.__init__)\n",
        "def basic_generator(out_size, n_channels, in_sz=100, n_features=64, n_extra_layers=0, **kwargs):\n",
        "    \"A basic generator from `in_sz` to images `n_channels` x `out_size` x `out_size`.\"\n",
        "    cur_size, cur_ftrs = 4, n_features//2\n",
        "    while cur_size < out_size:  cur_size *= 2; cur_ftrs *= 2\n",
        "    layers = [AddChannels(2), ConvLayer(in_sz, cur_ftrs, 4, 1, transpose=True, **kwargs)]\n",
        "    cur_size = 4\n",
        "    while cur_size < out_size // 2:\n",
        "        layers.append(ConvLayer(cur_ftrs, cur_ftrs//2, 4, 2, 1, transpose=True, **kwargs))\n",
        "        cur_ftrs //= 2; cur_size *= 2\n",
        "    layers += [ConvLayer(cur_ftrs, cur_ftrs, 3, 1, 1, transpose=True, **kwargs) for _ in range(n_extra_layers)]\n",
        "    layers += [nn.ConvTranspose2d(cur_ftrs, n_channels, 4, 2, 1, bias=False), nn.Tanh()]\n",
        "    return nn.Sequential(*layers)"
      ]
    },
    {
      "cell_type": "code",
      "execution_count": 12,
      "metadata": {
        "id": "Opip4S7u87kC"
      },
      "outputs": [],
      "source": [
        "critic = basic_critic(64, 3)\n",
        "generator = basic_generator(64, 3)\n",
        "tst = GANModule(critic=critic, generator=generator)\n",
        "real = torch.randn(2, 3, 64, 64)\n",
        "real_p = tst(real)\n",
        "test_eq(real_p.shape, [2,1])\n",
        "\n",
        "tst.switch() #tst is now in generator mode\n",
        "noise = torch.randn(2, 100)\n",
        "fake = tst(noise)\n",
        "test_eq(fake.shape, real.shape)\n",
        "\n",
        "tst.switch() #tst is back in critic mode\n",
        "fake_p = tst(fake)\n",
        "test_eq(fake_p.shape, [2,1])"
      ]
    },
    {
      "cell_type": "code",
      "execution_count": 13,
      "metadata": {
        "id": "D2jZzu9887kC"
      },
      "outputs": [],
      "source": [
        "#export\n",
        "_conv_args = dict(act_cls = partial(nn.LeakyReLU, negative_slope=0.2), norm_type=NormType.Spectral)\n",
        "\n",
        "def _conv(ni, nf, ks=3, stride=1, self_attention=False, **kwargs):\n",
        "    if self_attention: kwargs['xtra'] = SelfAttention(nf)\n",
        "    return ConvLayer(ni, nf, ks=ks, stride=stride, **_conv_args, **kwargs)"
      ]
    },
    {
      "cell_type": "code",
      "execution_count": 14,
      "metadata": {
        "id": "cTIXXMyA87kC"
      },
      "outputs": [],
      "source": [
        "#export\n",
        "@delegates(ConvLayer)\n",
        "def DenseResBlock(nf, norm_type=NormType.Batch, **kwargs):\n",
        "    \"Resnet block of `nf` features. `conv_kwargs` are passed to `conv_layer`.\"\n",
        "    return SequentialEx(ConvLayer(nf, nf, norm_type=norm_type, **kwargs),\n",
        "                        ConvLayer(nf, nf, norm_type=norm_type, **kwargs),\n",
        "                        MergeLayer(dense=True))"
      ]
    },
    {
      "cell_type": "code",
      "execution_count": 15,
      "metadata": {
        "id": "_yRjKwAV87kD"
      },
      "outputs": [],
      "source": [
        "#export\n",
        "def gan_critic(n_channels=3, nf=128, n_blocks=3, p=0.15):\n",
        "    \"Critic to train a `GAN`.\"\n",
        "    layers = [\n",
        "        _conv(n_channels, nf, ks=4, stride=2),\n",
        "        nn.Dropout2d(p/2),\n",
        "        DenseResBlock(nf, **_conv_args)]\n",
        "    nf *= 2 # after dense block\n",
        "    for i in range(n_blocks):\n",
        "        layers += [\n",
        "            nn.Dropout2d(p),\n",
        "            _conv(nf, nf*2, ks=4, stride=2, self_attention=(i==0))]\n",
        "        nf *= 2\n",
        "    layers += [\n",
        "        ConvLayer(nf, 1, ks=4, bias=False, padding=0, norm_type=NormType.Spectral, act_cls=None),\n",
        "        Flatten()]\n",
        "    return nn.Sequential(*layers)"
      ]
    },
    {
      "cell_type": "code",
      "execution_count": 16,
      "metadata": {
        "id": "Mmt_Z0Yx87kD"
      },
      "outputs": [],
      "source": [
        "#export\n",
        "class GANLoss(GANModule):\n",
        "    \"Wrapper around `crit_loss_func` and `gen_loss_func`\"\n",
        "    def __init__(self, gen_loss_func, crit_loss_func, gan_model):\n",
        "        super().__init__()\n",
        "        store_attr('gen_loss_func,crit_loss_func,gan_model')\n",
        "\n",
        "    def generator(self, output, target):\n",
        "        \"Evaluate the `output` with the critic then uses `self.gen_loss_func`\"\n",
        "        fake_pred = self.gan_model.critic(output)\n",
        "        self.gen_loss = self.gen_loss_func(fake_pred, output, target)\n",
        "        return self.gen_loss\n",
        "\n",
        "    def critic(self, real_pred, input):\n",
        "        \"Create some `fake_pred` with the generator from `input` and compare them to `real_pred` in `self.crit_loss_func`.\"\n",
        "        fake = self.gan_model.generator(input).requires_grad_(False)\n",
        "        fake_pred = self.gan_model.critic(fake)\n",
        "        self.crit_loss = self.crit_loss_func(real_pred, fake_pred)\n",
        "        return self.crit_loss"
      ]
    },
    {
      "cell_type": "markdown",
      "metadata": {
        "id": "CfgKNVR687kD"
      },
      "source": [
        "In generator mode, this loss function expects the `output` of the generator and some `target` (a batch of real images). It will evaluate if the generator successfully fooled the critic using `gen_loss_func`. This loss function has the following signature\n",
        "``` \n",
        "def gen_loss_func(fake_pred, output, target):\n",
        "```\n",
        "to be able to combine the output of the critic on `output` (which the first argument `fake_pred`) with `output` and `target` (if you want to mix the GAN loss with other losses for instance).\n",
        "\n",
        "In critic mode, this loss function expects the `real_pred` given by the critic and some `input` (the noise fed to the generator). It will evaluate the critic using `crit_loss_func`. This loss function has the following signature\n",
        "``` \n",
        "def crit_loss_func(real_pred, fake_pred):\n",
        "```\n",
        "where `real_pred` is the output of the critic on a batch of real images and `fake_pred` is generated from the noise using the generator."
      ]
    },
    {
      "cell_type": "code",
      "execution_count": 17,
      "metadata": {
        "id": "KL0Kh1dh87kD"
      },
      "outputs": [],
      "source": [
        "#export\n",
        "class AdaptiveLoss(Module):\n",
        "    \"Expand the `target` to match the `output` size before applying `crit`.\"\n",
        "    def __init__(self, crit): self.crit = crit\n",
        "    def forward(self, output, target):\n",
        "        return self.crit(output, target[:,None].expand_as(output).float())"
      ]
    },
    {
      "cell_type": "code",
      "execution_count": 18,
      "metadata": {
        "id": "KYp3epGs87kE"
      },
      "outputs": [],
      "source": [
        "#export\n",
        "def accuracy_thresh_expand(y_pred, y_true, thresh=0.5, sigmoid=True):\n",
        "    \"Compute accuracy after expanding `y_true` to the size of `y_pred`.\"\n",
        "    if sigmoid: y_pred = y_pred.sigmoid()\n",
        "    return ((y_pred>thresh).byte()==y_true[:,None].expand_as(y_pred).byte()).float().mean()"
      ]
    },
    {
      "cell_type": "markdown",
      "metadata": {
        "id": "uY3gb20k87kE"
      },
      "source": [
        "## Callbacks for GAN training"
      ]
    },
    {
      "cell_type": "code",
      "execution_count": 19,
      "metadata": {
        "id": "ZSIsnoEd87kE"
      },
      "outputs": [],
      "source": [
        "#export\n",
        "def set_freeze_model(m, rg):\n",
        "    for p in m.parameters(): p.requires_grad_(rg)"
      ]
    },
    {
      "cell_type": "code",
      "execution_count": 20,
      "metadata": {
        "id": "YybVfTob87kE"
      },
      "outputs": [],
      "source": [
        "#export\n",
        "class GANTrainer(Callback):\n",
        "    \"Handles GAN Training.\"\n",
        "    run_after = TrainEvalCallback\n",
        "    def __init__(self, switch_eval=False, clip=None, beta=0.98, gen_first=False, show_img=True):\n",
        "        store_attr('switch_eval,clip,gen_first,show_img')\n",
        "        self.gen_loss,self.crit_loss = AvgSmoothLoss(beta=beta),AvgSmoothLoss(beta=beta)\n",
        "\n",
        "    def _set_trainable(self):\n",
        "        train_model = self.generator if     self.gen_mode else self.critic\n",
        "        loss_model  = self.generator if not self.gen_mode else self.critic\n",
        "        set_freeze_model(train_model, True)\n",
        "        set_freeze_model(loss_model, False)\n",
        "        if self.switch_eval:\n",
        "            train_model.train()\n",
        "            loss_model.eval()\n",
        "\n",
        "    def before_fit(self):\n",
        "        \"Initialize smootheners.\"\n",
        "        self.generator,self.critic = self.model.generator,self.model.critic\n",
        "        self.gen_mode = self.gen_first\n",
        "        self.switch(self.gen_mode)\n",
        "        self.crit_losses,self.gen_losses = [],[]\n",
        "        self.gen_loss.reset() ; self.crit_loss.reset()\n",
        "        #self.recorder.no_val=True\n",
        "        #self.recorder.add_metric_names(['gen_loss', 'disc_loss'])\n",
        "        #self.imgs,self.titles = [],[]\n",
        "\n",
        "    def before_validate(self):\n",
        "        \"Switch in generator mode for showing results.\"\n",
        "        self.switch(gen_mode=True)\n",
        "\n",
        "    def before_batch(self):\n",
        "        \"Clamp the weights with `self.clip` if it's not None, set the correct input/target.\"\n",
        "        if self.training and self.clip is not None:\n",
        "            for p in self.critic.parameters(): p.data.clamp_(-self.clip, self.clip)\n",
        "        if not self.gen_mode:\n",
        "            (self.learn.xb,self.learn.yb) = (self.yb,self.xb)\n",
        "\n",
        "    def after_batch(self):\n",
        "        \"Record `last_loss` in the proper list.\"\n",
        "        if not self.training: return\n",
        "        if self.gen_mode:\n",
        "            self.gen_loss.accumulate(self.learn)\n",
        "            self.gen_losses.append(self.gen_loss.value)\n",
        "            self.last_gen = self.learn.to_detach(self.pred)\n",
        "        else:\n",
        "            self.crit_loss.accumulate(self.learn)\n",
        "            self.crit_losses.append(self.crit_loss.value)\n",
        "\n",
        "    def before_epoch(self):\n",
        "        \"Put the critic or the generator back to eval if necessary.\"\n",
        "        self.switch(self.gen_mode)\n",
        "\n",
        "    #def after_epoch(self):\n",
        "    #    \"Show a sample image.\"\n",
        "    #    if not hasattr(self, 'last_gen') or not self.show_img: return\n",
        "    #    data = self.learn.data\n",
        "    #    img = self.last_gen[0]\n",
        "    #    norm = getattr(data,'norm',False)\n",
        "    #    if norm and norm.keywords.get('do_y',False): img = data.denorm(img)\n",
        "    #    img = data.train_ds.y.reconstruct(img)\n",
        "    #    self.imgs.append(img)\n",
        "    #    self.titles.append(f'Epoch {epoch}')\n",
        "    #    pbar.show_imgs(self.imgs, self.titles)\n",
        "    #    return add_metrics(last_metrics, [getattr(self.smoothenerG,'smooth',None),getattr(self.smoothenerC,'smooth',None)])\n",
        "\n",
        "    def switch(self, gen_mode=None):\n",
        "        \"Switch the model and loss function, if `gen_mode` is provided, in the desired mode.\"\n",
        "        self.gen_mode = (not self.gen_mode) if gen_mode is None else gen_mode\n",
        "        self._set_trainable()\n",
        "        self.model.switch(gen_mode)\n",
        "        self.loss_func.switch(gen_mode)"
      ]
    },
    {
      "cell_type": "markdown",
      "metadata": {
        "id": "ZDOquaan87kE"
      },
      "source": [
        "> Warning: The GANTrainer is useless on its own, you need to complete it with one of the following switchers"
      ]
    },
    {
      "cell_type": "code",
      "execution_count": 21,
      "metadata": {
        "id": "JrHtlYVZ87kE"
      },
      "outputs": [],
      "source": [
        "#export\n",
        "class FixedGANSwitcher(Callback):\n",
        "    \"Switcher to do `n_crit` iterations of the critic then `n_gen` iterations of the generator.\"\n",
        "    run_after = GANTrainer\n",
        "    def __init__(self, n_crit=1, n_gen=1): store_attr('n_crit,n_gen')\n",
        "    def before_train(self): self.n_c,self.n_g = 0,0\n",
        "\n",
        "    def after_batch(self):\n",
        "        \"Switch the model if necessary.\"\n",
        "        if not self.training: return\n",
        "        if self.learn.gan_trainer.gen_mode:\n",
        "            self.n_g += 1\n",
        "            n_iter,n_in,n_out = self.n_gen,self.n_c,self.n_g\n",
        "        else:\n",
        "            self.n_c += 1\n",
        "            n_iter,n_in,n_out = self.n_crit,self.n_g,self.n_c\n",
        "        target = n_iter if isinstance(n_iter, int) else n_iter(n_in)\n",
        "        if target == n_out:\n",
        "            self.learn.gan_trainer.switch()\n",
        "            self.n_c,self.n_g = 0,0"
      ]
    },
    {
      "cell_type": "code",
      "execution_count": 22,
      "metadata": {
        "id": "0Wq-Us8787kF"
      },
      "outputs": [],
      "source": [
        "#export\n",
        "class AdaptiveGANSwitcher(Callback):\n",
        "    \"Switcher that goes back to generator/critic when the loss goes below `gen_thresh`/`crit_thresh`.\"\n",
        "    run_after = GANTrainer\n",
        "    def __init__(self, gen_thresh=None, critic_thresh=None):\n",
        "        store_attr('gen_thresh,critic_thresh')\n",
        "\n",
        "    def after_batch(self):\n",
        "        \"Switch the model if necessary.\"\n",
        "        if not self.training: return\n",
        "        if self.gan_trainer.gen_mode:\n",
        "            if self.gen_thresh is None or self.loss < self.gen_thresh: self.gan_trainer.switch()\n",
        "        else:\n",
        "            if self.critic_thresh is None or self.loss < self.critic_thresh: self.gan_trainer.switch()"
      ]
    },
    {
      "cell_type": "code",
      "execution_count": 23,
      "metadata": {
        "id": "TZ6s7pZS87kF"
      },
      "outputs": [],
      "source": [
        "#export\n",
        "class GANDiscriminativeLR(Callback):\n",
        "    \"`Callback` that handles multiplying the learning rate by `mult_lr` for the critic.\"\n",
        "    run_after = GANTrainer\n",
        "    def __init__(self, mult_lr=5.): self.mult_lr = mult_lr\n",
        "\n",
        "    def before_batch(self):\n",
        "        \"Multiply the current lr if necessary.\"\n",
        "        if not self.learn.gan_trainer.gen_mode and self.training:\n",
        "            self.learn.opt.set_hyper('lr', self.learn.opt.hypers[0]['lr']*self.mult_lr)\n",
        "\n",
        "    def after_batch(self):\n",
        "        \"Put the LR back to its value if necessary.\"\n",
        "        if not self.learn.gan_trainer.gen_mode: self.learn.opt.set_hyper('lr', self.learn.opt.hypers[0]['lr']/self.mult_lr)"
      ]
    },
    {
      "cell_type": "markdown",
      "metadata": {
        "id": "oj3Tyyg887kF"
      },
      "source": [
        "## GAN data"
      ]
    },
    {
      "cell_type": "code",
      "execution_count": 24,
      "metadata": {
        "id": "8LjmRrcr87kF"
      },
      "outputs": [],
      "source": [
        "#export\n",
        "class InvisibleTensor(TensorBase):\n",
        "    def show(self, ctx=None, **kwargs): return ctx"
      ]
    },
    {
      "cell_type": "code",
      "execution_count": 25,
      "metadata": {
        "id": "Kd6k4YXY87kF"
      },
      "outputs": [],
      "source": [
        "#export\n",
        "def generate_noise(fn, size=100): return cast(torch.randn(size), InvisibleTensor)"
      ]
    },
    {
      "cell_type": "code",
      "execution_count": 26,
      "metadata": {
        "id": "LJ-E9WNi87kF"
      },
      "outputs": [],
      "source": [
        "#export\n",
        "@typedispatch\n",
        "def show_batch(x:InvisibleTensor, y:TensorImage, samples, ctxs=None, max_n=10, nrows=None, ncols=None, figsize=None, **kwargs):\n",
        "    if ctxs is None: ctxs = get_grid(min(len(samples), max_n), nrows=nrows, ncols=ncols, figsize=figsize)\n",
        "    ctxs = show_batch[object](x, y, samples, ctxs=ctxs, max_n=max_n, **kwargs)\n",
        "    return ctxs"
      ]
    },
    {
      "cell_type": "code",
      "execution_count": 27,
      "metadata": {
        "id": "QB5HtnH-87kG"
      },
      "outputs": [],
      "source": [
        "#export\n",
        "@typedispatch\n",
        "def show_results(x:InvisibleTensor, y:TensorImage, samples, outs, ctxs=None, max_n=10, nrows=None, ncols=None, figsize=None, **kwargs):\n",
        "    if ctxs is None: ctxs = get_grid(min(len(samples), max_n), nrows=nrows, ncols=ncols, figsize=figsize)\n",
        "    ctxs = [b.show(ctx=c, **kwargs) for b,c,_ in zip(outs.itemgot(0),ctxs,range(max_n))]\n",
        "    return ctxs"
      ]
    },
    {
      "cell_type": "code",
      "execution_count": 41,
      "metadata": {
        "id": "bRi4TtQx87kG"
      },
      "outputs": [],
      "source": [
        "bs = 128\n",
        "IMG_SIZE = 64"
      ]
    },
    {
      "cell_type": "code",
      "source": [
        "import pandas as pd\n",
        "import numpy as np\n",
        "import matplotlib.pyplot as plt\n",
        "from fastai.vision.all import *\n",
        "import sys"
      ],
      "metadata": {
        "id": "_T7VUC523isu"
      },
      "execution_count": 42,
      "outputs": []
    },
    {
      "cell_type": "code",
      "source": [
        "# Load EB_ML python libraries\n",
        "# The following libraries are used in this notebook and should be installed in your local machine before running this notebook.\n",
        "# eb_colab_utils.py\n",
        "# eb_ml_battery_lib.py\n",
        "# eb_ml_utils.py\n",
        "\n",
        "# path to load external *.py files used in this notebook\n",
        "# Note: in Google Colab virtual machine you shoud copy the files in \"/content\" folder after BEFORE running this notebook's cell\n",
        "external_python_file_path=\"'/.'\"\n",
        "sys.path.append(external_python_file_path)\n",
        "\n",
        "\n",
        "from eb_ml_colab_utils import get_root_path,copy_model_to_google_drive\n",
        "from eb_ml_battery_lib import load_soc_dataset,generate_image_files_from_eis\n",
        "from eb_ml_utils import save_model_weights,build_data_loader,build_and_train_learner,score_model,get_items_func"
      ],
      "metadata": {
        "id": "AOF9RwjV3klf"
      },
      "execution_count": 43,
      "outputs": []
    },
    {
      "cell_type": "code",
      "source": [
        "#configuration dictionary\n",
        "config ={}\n",
        "\n",
        "# Root working folder (local or Google Drive)\n",
        "# config['ROOT_DIR'] = get_root_path(\"batterie\")\n",
        "config['ROOT_DIR'] = get_root_path(\"batterie\")  \n",
        "\n",
        "# Folder with dataset in CSV format\n",
        "#config['DATASETS_DIR'] = config['ROOT_DIR']+\"/datasets\"\n",
        "config['DATASETS_DIR'] = config['ROOT_DIR']+\"/datasets/EIS-vs-SOC-2022\"\n",
        "\n",
        "# List of SoC level into dataset\n",
        "#config['soc_list']=['100','090','080','070','060','050','040','030','020','010']\n",
        "config['soc_list']=['100','090','080','070','060','050','040','030','020','010']\n",
        "\n",
        "\n",
        "# Folder to store trained model\n",
        "#config['MODELS_DIR'] = config['ROOT_DIR']+\"/models\"\n",
        "config['MODELS_DIR'] = config['ROOT_DIR']+\"/models\""
      ],
      "metadata": {
        "id": "I033BspV3oY9",
        "outputId": "0eb2af87-9b84-4432-9a50-32fe209cb80b",
        "colab": {
          "base_uri": "https://localhost:8080/"
        }
      },
      "execution_count": 44,
      "outputs": [
        {
          "output_type": "stream",
          "name": "stdout",
          "text": [
            "Running on COLAB\n",
            "Mounted at /gdrive\n"
          ]
        }
      ]
    },
    {
      "cell_type": "code",
      "source": [
        "\n",
        "# Data acquition file to load from dateset folder\n",
        "battery_list=[1,2,3,4,5,7,8,9,10,11,12] # Data acquitions 6,13 to be used for TEST]"
      ],
      "metadata": {
        "id": "7NFOU_Kh3Uia"
      },
      "execution_count": 45,
      "outputs": []
    },
    {
      "cell_type": "code",
      "source": [
        "# Enable/disable image dataset generation\n",
        "# Image genaration is time and resource comsuming task. \n",
        "# You need to generate image just once for every cross validation experiment\n",
        "# generate_images = False\n",
        "generate_images = True\n",
        "\n",
        "# The number of epochs is a hyperparameter that defines the number times that the \n",
        "# learning algorithm will work through the entire training dataset\n",
        "# n_epochs=30\n",
        "n_epochs=50\n",
        "\n",
        "# Experiment name prefix\n",
        "# This prefix will be used in name of files and foldersto store the model and the results of the experiment\n",
        "# Note1: if you want to run multiple experiments you need to change the name prefix\n",
        "# Note2: if you want to run in a Colab virtual machine generated images and model will be stored in your Google Drive\n",
        "experiment_name_prefix=\"EIS_FOR_GAN\"\n",
        "\n",
        "#TODO: nel dataset di validazione alcune classi non sono rappresentate. Usare stratified splitter\n",
        "config['Splitter'] = RandomSplitter(valid_pct=0.3, seed=41)\n",
        "config['rePat'] = r'^.*_(\\d+).png$'\n",
        "\n",
        "\n",
        "print(\"battery data acquisitions for training and validation: \")\n",
        "print(battery_list)\n",
        "model_name=experiment_name_prefix\n",
        "print(\"model name: \"+model_name)\n",
        "\n",
        "config['ExperimentName'] = model_name\n",
        "config['IMAGES_PATH'] = config['ROOT_DIR']+\"/\"+config['ExperimentName']\n",
        "config['TEST_IMAGES_PATH'] = config['ROOT_DIR']+\"/test_\"+config['ExperimentName']\n",
        "\n",
        "#GENERATE IMAGE\n",
        "if(generate_images):\n",
        "    dataset,feature_col_names=load_soc_dataset(battery_list,config[\"soc_list\"],config['DATASETS_DIR'])\n",
        "    generate_image_files_from_eis(dataset,feature_col_names,config['IMAGES_PATH'],config['ExperimentName'],rescale=False,DATA_AUGMENTATION_FACTOR=1)\n"
      ],
      "metadata": {
        "id": "yAYHZe9s360F",
        "outputId": "cbcb2b55-494c-426a-9cf7-a7c8b17ed449",
        "colab": {
          "base_uri": "https://localhost:8080/"
        }
      },
      "execution_count": 46,
      "outputs": [
        {
          "output_type": "stream",
          "name": "stdout",
          "text": [
            "battery data acquisitions for training and validation: \n",
            "[1, 2, 3, 4, 5, 7, 8, 9, 10, 11, 12]\n",
            "model name: EIS_FOR_GAN\n",
            "dataset row number: 110\n",
            "start image file generation. IMAGE_PATH: /gdrive/MyDrive/batterie/EIS_FOR_GAN\n",
            "df_real shape: (110, 14)\n",
            "df_img shape: (110, 14)\n",
            "soc: 100\n",
            "battery: 1\n",
            "augmentation_index: 0\n",
            "/gdrive/MyDrive/batterie/EIS_FOR_GAN/EIS_FOR_GAN/Batt_1_100.png\n",
            "soc: 090\n",
            "battery: 1\n",
            "augmentation_index: 0\n",
            "/gdrive/MyDrive/batterie/EIS_FOR_GAN/EIS_FOR_GAN/Batt_1_090.png\n",
            "soc: 080\n",
            "battery: 1\n",
            "augmentation_index: 0\n",
            "/gdrive/MyDrive/batterie/EIS_FOR_GAN/EIS_FOR_GAN/Batt_1_080.png\n",
            "soc: 070\n",
            "battery: 1\n",
            "augmentation_index: 0\n",
            "/gdrive/MyDrive/batterie/EIS_FOR_GAN/EIS_FOR_GAN/Batt_1_070.png\n",
            "soc: 060\n",
            "battery: 1\n",
            "augmentation_index: 0\n",
            "/gdrive/MyDrive/batterie/EIS_FOR_GAN/EIS_FOR_GAN/Batt_1_060.png\n",
            "soc: 050\n",
            "battery: 1\n",
            "augmentation_index: 0\n",
            "/gdrive/MyDrive/batterie/EIS_FOR_GAN/EIS_FOR_GAN/Batt_1_050.png\n",
            "soc: 040\n",
            "battery: 1\n",
            "augmentation_index: 0\n",
            "/gdrive/MyDrive/batterie/EIS_FOR_GAN/EIS_FOR_GAN/Batt_1_040.png\n",
            "soc: 030\n",
            "battery: 1\n",
            "augmentation_index: 0\n",
            "/gdrive/MyDrive/batterie/EIS_FOR_GAN/EIS_FOR_GAN/Batt_1_030.png\n",
            "soc: 020\n",
            "battery: 1\n",
            "augmentation_index: 0\n",
            "/gdrive/MyDrive/batterie/EIS_FOR_GAN/EIS_FOR_GAN/Batt_1_020.png\n",
            "soc: 010\n",
            "battery: 1\n",
            "augmentation_index: 0\n",
            "/gdrive/MyDrive/batterie/EIS_FOR_GAN/EIS_FOR_GAN/Batt_1_010.png\n",
            "soc: 100\n",
            "battery: 2\n",
            "augmentation_index: 0\n",
            "/gdrive/MyDrive/batterie/EIS_FOR_GAN/EIS_FOR_GAN/Batt_2_100.png\n",
            "soc: 090\n",
            "battery: 2\n",
            "augmentation_index: 0\n",
            "/gdrive/MyDrive/batterie/EIS_FOR_GAN/EIS_FOR_GAN/Batt_2_090.png\n",
            "soc: 080\n",
            "battery: 2\n",
            "augmentation_index: 0\n",
            "/gdrive/MyDrive/batterie/EIS_FOR_GAN/EIS_FOR_GAN/Batt_2_080.png\n",
            "soc: 070\n",
            "battery: 2\n",
            "augmentation_index: 0\n",
            "/gdrive/MyDrive/batterie/EIS_FOR_GAN/EIS_FOR_GAN/Batt_2_070.png\n",
            "soc: 060\n",
            "battery: 2\n",
            "augmentation_index: 0\n",
            "/gdrive/MyDrive/batterie/EIS_FOR_GAN/EIS_FOR_GAN/Batt_2_060.png\n",
            "soc: 050\n",
            "battery: 2\n",
            "augmentation_index: 0\n",
            "/gdrive/MyDrive/batterie/EIS_FOR_GAN/EIS_FOR_GAN/Batt_2_050.png\n",
            "soc: 040\n",
            "battery: 2\n",
            "augmentation_index: 0\n",
            "/gdrive/MyDrive/batterie/EIS_FOR_GAN/EIS_FOR_GAN/Batt_2_040.png\n",
            "soc: 030\n",
            "battery: 2\n",
            "augmentation_index: 0\n",
            "/gdrive/MyDrive/batterie/EIS_FOR_GAN/EIS_FOR_GAN/Batt_2_030.png\n",
            "soc: 020\n",
            "battery: 2\n",
            "augmentation_index: 0\n",
            "/gdrive/MyDrive/batterie/EIS_FOR_GAN/EIS_FOR_GAN/Batt_2_020.png\n",
            "soc: 010\n",
            "battery: 2\n",
            "augmentation_index: 0\n",
            "/gdrive/MyDrive/batterie/EIS_FOR_GAN/EIS_FOR_GAN/Batt_2_010.png\n",
            "soc: 100\n",
            "battery: 3\n",
            "augmentation_index: 0\n",
            "/gdrive/MyDrive/batterie/EIS_FOR_GAN/EIS_FOR_GAN/Batt_3_100.png\n",
            "soc: 090\n",
            "battery: 3\n",
            "augmentation_index: 0\n",
            "/gdrive/MyDrive/batterie/EIS_FOR_GAN/EIS_FOR_GAN/Batt_3_090.png\n",
            "soc: 080\n",
            "battery: 3\n",
            "augmentation_index: 0\n",
            "/gdrive/MyDrive/batterie/EIS_FOR_GAN/EIS_FOR_GAN/Batt_3_080.png\n",
            "soc: 070\n",
            "battery: 3\n",
            "augmentation_index: 0\n",
            "/gdrive/MyDrive/batterie/EIS_FOR_GAN/EIS_FOR_GAN/Batt_3_070.png\n",
            "soc: 060\n",
            "battery: 3\n",
            "augmentation_index: 0\n",
            "/gdrive/MyDrive/batterie/EIS_FOR_GAN/EIS_FOR_GAN/Batt_3_060.png\n",
            "soc: 050\n",
            "battery: 3\n",
            "augmentation_index: 0\n",
            "/gdrive/MyDrive/batterie/EIS_FOR_GAN/EIS_FOR_GAN/Batt_3_050.png\n",
            "soc: 040\n",
            "battery: 3\n",
            "augmentation_index: 0\n",
            "/gdrive/MyDrive/batterie/EIS_FOR_GAN/EIS_FOR_GAN/Batt_3_040.png\n",
            "soc: 030\n",
            "battery: 3\n",
            "augmentation_index: 0\n",
            "/gdrive/MyDrive/batterie/EIS_FOR_GAN/EIS_FOR_GAN/Batt_3_030.png\n",
            "soc: 020\n",
            "battery: 3\n",
            "augmentation_index: 0\n",
            "/gdrive/MyDrive/batterie/EIS_FOR_GAN/EIS_FOR_GAN/Batt_3_020.png\n",
            "soc: 010\n",
            "battery: 3\n",
            "augmentation_index: 0\n",
            "/gdrive/MyDrive/batterie/EIS_FOR_GAN/EIS_FOR_GAN/Batt_3_010.png\n",
            "soc: 100\n",
            "battery: 4\n",
            "augmentation_index: 0\n",
            "/gdrive/MyDrive/batterie/EIS_FOR_GAN/EIS_FOR_GAN/Batt_4_100.png\n",
            "soc: 090\n",
            "battery: 4\n",
            "augmentation_index: 0\n",
            "/gdrive/MyDrive/batterie/EIS_FOR_GAN/EIS_FOR_GAN/Batt_4_090.png\n",
            "soc: 080\n",
            "battery: 4\n",
            "augmentation_index: 0\n",
            "/gdrive/MyDrive/batterie/EIS_FOR_GAN/EIS_FOR_GAN/Batt_4_080.png\n",
            "soc: 070\n",
            "battery: 4\n",
            "augmentation_index: 0\n",
            "/gdrive/MyDrive/batterie/EIS_FOR_GAN/EIS_FOR_GAN/Batt_4_070.png\n",
            "soc: 060\n",
            "battery: 4\n",
            "augmentation_index: 0\n",
            "/gdrive/MyDrive/batterie/EIS_FOR_GAN/EIS_FOR_GAN/Batt_4_060.png\n",
            "soc: 050\n",
            "battery: 4\n",
            "augmentation_index: 0\n",
            "/gdrive/MyDrive/batterie/EIS_FOR_GAN/EIS_FOR_GAN/Batt_4_050.png\n",
            "soc: 040\n",
            "battery: 4\n",
            "augmentation_index: 0\n",
            "/gdrive/MyDrive/batterie/EIS_FOR_GAN/EIS_FOR_GAN/Batt_4_040.png\n",
            "soc: 030\n",
            "battery: 4\n",
            "augmentation_index: 0\n",
            "/gdrive/MyDrive/batterie/EIS_FOR_GAN/EIS_FOR_GAN/Batt_4_030.png\n",
            "soc: 020\n",
            "battery: 4\n",
            "augmentation_index: 0\n",
            "/gdrive/MyDrive/batterie/EIS_FOR_GAN/EIS_FOR_GAN/Batt_4_020.png\n",
            "soc: 010\n",
            "battery: 4\n",
            "augmentation_index: 0\n",
            "/gdrive/MyDrive/batterie/EIS_FOR_GAN/EIS_FOR_GAN/Batt_4_010.png\n",
            "soc: 100\n",
            "battery: 5\n",
            "augmentation_index: 0\n",
            "/gdrive/MyDrive/batterie/EIS_FOR_GAN/EIS_FOR_GAN/Batt_5_100.png\n",
            "soc: 090\n",
            "battery: 5\n",
            "augmentation_index: 0\n",
            "/gdrive/MyDrive/batterie/EIS_FOR_GAN/EIS_FOR_GAN/Batt_5_090.png\n",
            "soc: 080\n",
            "battery: 5\n",
            "augmentation_index: 0\n",
            "/gdrive/MyDrive/batterie/EIS_FOR_GAN/EIS_FOR_GAN/Batt_5_080.png\n",
            "soc: 070\n",
            "battery: 5\n",
            "augmentation_index: 0\n",
            "/gdrive/MyDrive/batterie/EIS_FOR_GAN/EIS_FOR_GAN/Batt_5_070.png\n",
            "soc: 060\n",
            "battery: 5\n",
            "augmentation_index: 0\n",
            "/gdrive/MyDrive/batterie/EIS_FOR_GAN/EIS_FOR_GAN/Batt_5_060.png\n",
            "soc: 050\n",
            "battery: 5\n",
            "augmentation_index: 0\n",
            "/gdrive/MyDrive/batterie/EIS_FOR_GAN/EIS_FOR_GAN/Batt_5_050.png\n",
            "soc: 040\n",
            "battery: 5\n",
            "augmentation_index: 0\n",
            "/gdrive/MyDrive/batterie/EIS_FOR_GAN/EIS_FOR_GAN/Batt_5_040.png\n",
            "soc: 030\n",
            "battery: 5\n",
            "augmentation_index: 0\n",
            "/gdrive/MyDrive/batterie/EIS_FOR_GAN/EIS_FOR_GAN/Batt_5_030.png\n",
            "soc: 020\n",
            "battery: 5\n",
            "augmentation_index: 0\n",
            "/gdrive/MyDrive/batterie/EIS_FOR_GAN/EIS_FOR_GAN/Batt_5_020.png\n",
            "soc: 010\n",
            "battery: 5\n",
            "augmentation_index: 0\n",
            "/gdrive/MyDrive/batterie/EIS_FOR_GAN/EIS_FOR_GAN/Batt_5_010.png\n",
            "soc: 100\n",
            "battery: 7\n",
            "augmentation_index: 0\n",
            "/gdrive/MyDrive/batterie/EIS_FOR_GAN/EIS_FOR_GAN/Batt_7_100.png\n",
            "soc: 090\n",
            "battery: 7\n",
            "augmentation_index: 0\n",
            "/gdrive/MyDrive/batterie/EIS_FOR_GAN/EIS_FOR_GAN/Batt_7_090.png\n",
            "soc: 080\n",
            "battery: 7\n",
            "augmentation_index: 0\n",
            "/gdrive/MyDrive/batterie/EIS_FOR_GAN/EIS_FOR_GAN/Batt_7_080.png\n",
            "soc: 070\n",
            "battery: 7\n",
            "augmentation_index: 0\n",
            "/gdrive/MyDrive/batterie/EIS_FOR_GAN/EIS_FOR_GAN/Batt_7_070.png\n",
            "soc: 060\n",
            "battery: 7\n",
            "augmentation_index: 0\n",
            "/gdrive/MyDrive/batterie/EIS_FOR_GAN/EIS_FOR_GAN/Batt_7_060.png\n",
            "soc: 050\n",
            "battery: 7\n",
            "augmentation_index: 0\n",
            "/gdrive/MyDrive/batterie/EIS_FOR_GAN/EIS_FOR_GAN/Batt_7_050.png\n",
            "soc: 040\n",
            "battery: 7\n",
            "augmentation_index: 0\n",
            "/gdrive/MyDrive/batterie/EIS_FOR_GAN/EIS_FOR_GAN/Batt_7_040.png\n",
            "soc: 030\n",
            "battery: 7\n",
            "augmentation_index: 0\n",
            "/gdrive/MyDrive/batterie/EIS_FOR_GAN/EIS_FOR_GAN/Batt_7_030.png\n",
            "soc: 020\n",
            "battery: 7\n",
            "augmentation_index: 0\n",
            "/gdrive/MyDrive/batterie/EIS_FOR_GAN/EIS_FOR_GAN/Batt_7_020.png\n",
            "soc: 010\n",
            "battery: 7\n",
            "augmentation_index: 0\n",
            "/gdrive/MyDrive/batterie/EIS_FOR_GAN/EIS_FOR_GAN/Batt_7_010.png\n",
            "soc: 100\n",
            "battery: 8\n",
            "augmentation_index: 0\n",
            "/gdrive/MyDrive/batterie/EIS_FOR_GAN/EIS_FOR_GAN/Batt_8_100.png\n",
            "soc: 090\n",
            "battery: 8\n",
            "augmentation_index: 0\n",
            "/gdrive/MyDrive/batterie/EIS_FOR_GAN/EIS_FOR_GAN/Batt_8_090.png\n",
            "soc: 080\n",
            "battery: 8\n",
            "augmentation_index: 0\n",
            "/gdrive/MyDrive/batterie/EIS_FOR_GAN/EIS_FOR_GAN/Batt_8_080.png\n",
            "soc: 070\n",
            "battery: 8\n",
            "augmentation_index: 0\n",
            "/gdrive/MyDrive/batterie/EIS_FOR_GAN/EIS_FOR_GAN/Batt_8_070.png\n",
            "soc: 060\n",
            "battery: 8\n",
            "augmentation_index: 0\n",
            "/gdrive/MyDrive/batterie/EIS_FOR_GAN/EIS_FOR_GAN/Batt_8_060.png\n",
            "soc: 050\n",
            "battery: 8\n",
            "augmentation_index: 0\n",
            "/gdrive/MyDrive/batterie/EIS_FOR_GAN/EIS_FOR_GAN/Batt_8_050.png\n",
            "soc: 040\n",
            "battery: 8\n",
            "augmentation_index: 0\n",
            "/gdrive/MyDrive/batterie/EIS_FOR_GAN/EIS_FOR_GAN/Batt_8_040.png\n",
            "soc: 030\n",
            "battery: 8\n",
            "augmentation_index: 0\n",
            "/gdrive/MyDrive/batterie/EIS_FOR_GAN/EIS_FOR_GAN/Batt_8_030.png\n",
            "soc: 020\n",
            "battery: 8\n",
            "augmentation_index: 0\n",
            "/gdrive/MyDrive/batterie/EIS_FOR_GAN/EIS_FOR_GAN/Batt_8_020.png\n",
            "soc: 010\n",
            "battery: 8\n",
            "augmentation_index: 0\n",
            "/gdrive/MyDrive/batterie/EIS_FOR_GAN/EIS_FOR_GAN/Batt_8_010.png\n",
            "soc: 100\n",
            "battery: 9\n",
            "augmentation_index: 0\n",
            "/gdrive/MyDrive/batterie/EIS_FOR_GAN/EIS_FOR_GAN/Batt_9_100.png\n",
            "soc: 090\n",
            "battery: 9\n",
            "augmentation_index: 0\n",
            "/gdrive/MyDrive/batterie/EIS_FOR_GAN/EIS_FOR_GAN/Batt_9_090.png\n",
            "soc: 080\n",
            "battery: 9\n",
            "augmentation_index: 0\n",
            "/gdrive/MyDrive/batterie/EIS_FOR_GAN/EIS_FOR_GAN/Batt_9_080.png\n",
            "soc: 070\n",
            "battery: 9\n",
            "augmentation_index: 0\n",
            "/gdrive/MyDrive/batterie/EIS_FOR_GAN/EIS_FOR_GAN/Batt_9_070.png\n",
            "soc: 060\n",
            "battery: 9\n",
            "augmentation_index: 0\n",
            "/gdrive/MyDrive/batterie/EIS_FOR_GAN/EIS_FOR_GAN/Batt_9_060.png\n",
            "soc: 050\n",
            "battery: 9\n",
            "augmentation_index: 0\n",
            "/gdrive/MyDrive/batterie/EIS_FOR_GAN/EIS_FOR_GAN/Batt_9_050.png\n",
            "soc: 040\n",
            "battery: 9\n",
            "augmentation_index: 0\n",
            "/gdrive/MyDrive/batterie/EIS_FOR_GAN/EIS_FOR_GAN/Batt_9_040.png\n",
            "soc: 030\n",
            "battery: 9\n",
            "augmentation_index: 0\n",
            "/gdrive/MyDrive/batterie/EIS_FOR_GAN/EIS_FOR_GAN/Batt_9_030.png\n",
            "soc: 020\n",
            "battery: 9\n",
            "augmentation_index: 0\n",
            "/gdrive/MyDrive/batterie/EIS_FOR_GAN/EIS_FOR_GAN/Batt_9_020.png\n",
            "soc: 010\n",
            "battery: 9\n",
            "augmentation_index: 0\n",
            "/gdrive/MyDrive/batterie/EIS_FOR_GAN/EIS_FOR_GAN/Batt_9_010.png\n",
            "soc: 100\n",
            "battery: 10\n",
            "augmentation_index: 0\n",
            "/gdrive/MyDrive/batterie/EIS_FOR_GAN/EIS_FOR_GAN/Batt_10_100.png\n",
            "soc: 090\n",
            "battery: 10\n",
            "augmentation_index: 0\n",
            "/gdrive/MyDrive/batterie/EIS_FOR_GAN/EIS_FOR_GAN/Batt_10_090.png\n",
            "soc: 080\n",
            "battery: 10\n",
            "augmentation_index: 0\n",
            "/gdrive/MyDrive/batterie/EIS_FOR_GAN/EIS_FOR_GAN/Batt_10_080.png\n",
            "soc: 070\n",
            "battery: 10\n",
            "augmentation_index: 0\n",
            "/gdrive/MyDrive/batterie/EIS_FOR_GAN/EIS_FOR_GAN/Batt_10_070.png\n",
            "soc: 060\n",
            "battery: 10\n",
            "augmentation_index: 0\n",
            "/gdrive/MyDrive/batterie/EIS_FOR_GAN/EIS_FOR_GAN/Batt_10_060.png\n",
            "soc: 050\n",
            "battery: 10\n",
            "augmentation_index: 0\n",
            "/gdrive/MyDrive/batterie/EIS_FOR_GAN/EIS_FOR_GAN/Batt_10_050.png\n",
            "soc: 040\n",
            "battery: 10\n",
            "augmentation_index: 0\n",
            "/gdrive/MyDrive/batterie/EIS_FOR_GAN/EIS_FOR_GAN/Batt_10_040.png\n",
            "soc: 030\n",
            "battery: 10\n",
            "augmentation_index: 0\n",
            "/gdrive/MyDrive/batterie/EIS_FOR_GAN/EIS_FOR_GAN/Batt_10_030.png\n",
            "soc: 020\n",
            "battery: 10\n",
            "augmentation_index: 0\n",
            "/gdrive/MyDrive/batterie/EIS_FOR_GAN/EIS_FOR_GAN/Batt_10_020.png\n",
            "soc: 010\n",
            "battery: 10\n",
            "augmentation_index: 0\n",
            "/gdrive/MyDrive/batterie/EIS_FOR_GAN/EIS_FOR_GAN/Batt_10_010.png\n",
            "soc: 100\n",
            "battery: 11\n",
            "augmentation_index: 0\n",
            "/gdrive/MyDrive/batterie/EIS_FOR_GAN/EIS_FOR_GAN/Batt_11_100.png\n",
            "soc: 090\n",
            "battery: 11\n",
            "augmentation_index: 0\n",
            "/gdrive/MyDrive/batterie/EIS_FOR_GAN/EIS_FOR_GAN/Batt_11_090.png\n",
            "soc: 080\n",
            "battery: 11\n",
            "augmentation_index: 0\n",
            "/gdrive/MyDrive/batterie/EIS_FOR_GAN/EIS_FOR_GAN/Batt_11_080.png\n",
            "soc: 070\n",
            "battery: 11\n",
            "augmentation_index: 0\n",
            "/gdrive/MyDrive/batterie/EIS_FOR_GAN/EIS_FOR_GAN/Batt_11_070.png\n",
            "soc: 060\n",
            "battery: 11\n",
            "augmentation_index: 0\n",
            "/gdrive/MyDrive/batterie/EIS_FOR_GAN/EIS_FOR_GAN/Batt_11_060.png\n",
            "soc: 050\n",
            "battery: 11\n",
            "augmentation_index: 0\n",
            "/gdrive/MyDrive/batterie/EIS_FOR_GAN/EIS_FOR_GAN/Batt_11_050.png\n",
            "soc: 040\n",
            "battery: 11\n",
            "augmentation_index: 0\n",
            "/gdrive/MyDrive/batterie/EIS_FOR_GAN/EIS_FOR_GAN/Batt_11_040.png\n",
            "soc: 030\n",
            "battery: 11\n",
            "augmentation_index: 0\n",
            "/gdrive/MyDrive/batterie/EIS_FOR_GAN/EIS_FOR_GAN/Batt_11_030.png\n",
            "soc: 020\n",
            "battery: 11\n",
            "augmentation_index: 0\n",
            "/gdrive/MyDrive/batterie/EIS_FOR_GAN/EIS_FOR_GAN/Batt_11_020.png\n",
            "soc: 010\n",
            "battery: 11\n",
            "augmentation_index: 0\n",
            "/gdrive/MyDrive/batterie/EIS_FOR_GAN/EIS_FOR_GAN/Batt_11_010.png\n",
            "soc: 100\n",
            "battery: 12\n",
            "augmentation_index: 0\n",
            "/gdrive/MyDrive/batterie/EIS_FOR_GAN/EIS_FOR_GAN/Batt_12_100.png\n",
            "soc: 090\n",
            "battery: 12\n",
            "augmentation_index: 0\n",
            "/gdrive/MyDrive/batterie/EIS_FOR_GAN/EIS_FOR_GAN/Batt_12_090.png\n",
            "soc: 080\n",
            "battery: 12\n",
            "augmentation_index: 0\n",
            "/gdrive/MyDrive/batterie/EIS_FOR_GAN/EIS_FOR_GAN/Batt_12_080.png\n",
            "soc: 070\n",
            "battery: 12\n",
            "augmentation_index: 0\n",
            "/gdrive/MyDrive/batterie/EIS_FOR_GAN/EIS_FOR_GAN/Batt_12_070.png\n",
            "soc: 060\n",
            "battery: 12\n",
            "augmentation_index: 0\n",
            "/gdrive/MyDrive/batterie/EIS_FOR_GAN/EIS_FOR_GAN/Batt_12_060.png\n",
            "soc: 050\n",
            "battery: 12\n",
            "augmentation_index: 0\n",
            "/gdrive/MyDrive/batterie/EIS_FOR_GAN/EIS_FOR_GAN/Batt_12_050.png\n",
            "soc: 040\n",
            "battery: 12\n",
            "augmentation_index: 0\n",
            "/gdrive/MyDrive/batterie/EIS_FOR_GAN/EIS_FOR_GAN/Batt_12_040.png\n",
            "soc: 030\n",
            "battery: 12\n",
            "augmentation_index: 0\n",
            "/gdrive/MyDrive/batterie/EIS_FOR_GAN/EIS_FOR_GAN/Batt_12_030.png\n",
            "soc: 020\n",
            "battery: 12\n",
            "augmentation_index: 0\n",
            "/gdrive/MyDrive/batterie/EIS_FOR_GAN/EIS_FOR_GAN/Batt_12_020.png\n",
            "soc: 010\n",
            "battery: 12\n",
            "augmentation_index: 0\n",
            "/gdrive/MyDrive/batterie/EIS_FOR_GAN/EIS_FOR_GAN/Batt_12_010.png\n"
          ]
        }
      ]
    },
    {
      "cell_type": "code",
      "execution_count": 47,
      "metadata": {
        "id": "FBPqhHp_87kG"
      },
      "outputs": [],
      "source": [
        "dblock = DataBlock(blocks = (TransformBlock, ImageBlock),\n",
        "                   get_x = generate_noise,\n",
        "                   get_items = get_items_func,\n",
        "                   splitter = IndexSplitter([]),\n",
        "                   item_tfms=[Resize(IMG_SIZE)], \n",
        "                   batch_tfms = Normalize.from_stats(torch.tensor([0.5,0.5,0.5]), torch.tensor([0.5,0.5,0.5])))"
      ]
    },
    {
      "cell_type": "code",
      "source": [
        "dblock.summary(config[\"IMAGES_PATH\"])\n",
        "dls= dblock.dataloaders(config[\"IMAGES_PATH\"],bs=32)"
      ],
      "metadata": {
        "id": "PFmZiI-P6TeG",
        "outputId": "fc588bc2-0bd7-4060-856f-fc204003f661",
        "colab": {
          "base_uri": "https://localhost:8080/"
        }
      },
      "execution_count": 50,
      "outputs": [
        {
          "output_type": "stream",
          "name": "stdout",
          "text": [
            "Setting-up type transforms pipelines\n",
            "Collecting items from /gdrive/MyDrive/batterie/EIS_FOR_GAN\n",
            "Found 110 items\n",
            "2 datasets of sizes 110,0\n",
            "Setting up Pipeline: generate_noise\n",
            "Setting up Pipeline: PILBase.create\n",
            "\n",
            "Building one sample\n",
            "  Pipeline: generate_noise\n",
            "    starting from\n",
            "      /gdrive/MyDrive/batterie/EIS_FOR_GAN/EIS_FOR_GAN/Batt_1_100.png\n",
            "    applying generate_noise gives\n",
            "      InvisibleTensor of size 100\n",
            "  Pipeline: PILBase.create\n",
            "    starting from\n",
            "      /gdrive/MyDrive/batterie/EIS_FOR_GAN/EIS_FOR_GAN/Batt_1_100.png\n",
            "    applying PILBase.create gives\n",
            "      PILImage mode=RGB size=432x288\n",
            "\n",
            "Final sample: (InvisibleTensor([ 6.7602e-01,  4.4756e-01, -1.7035e-01,  3.5905e-01, -1.1461e+00,\n",
            "        -1.0239e-01, -1.3494e+00, -1.2180e+00,  1.2792e+00, -1.0636e-01,\n",
            "         9.2244e-01, -5.5202e-01,  1.2935e+00,  2.3454e+00,  4.7286e-01,\n",
            "        -9.5425e-01,  5.8342e-01, -1.0992e+00,  1.1174e+00, -1.0036e-01,\n",
            "        -1.4846e+00, -4.5644e-02, -9.3263e-01, -2.0377e+00, -7.1795e-01,\n",
            "         2.2420e-01, -1.4350e-01, -1.5010e+00, -9.2326e-01,  4.1754e-01,\n",
            "         4.9003e-01, -1.3255e+00,  5.3477e-01, -5.6097e-01,  7.0586e-02,\n",
            "        -7.0251e-01, -9.6733e-01, -5.4881e-01, -1.5245e+00, -1.2027e+00,\n",
            "         1.5366e+00, -2.9145e+00, -1.2065e-01, -1.8877e-01,  1.5083e-01,\n",
            "         1.4546e-03, -2.2416e+00,  3.8023e-01,  1.4867e+00,  1.0101e+00,\n",
            "         6.2758e-01,  9.9563e-01, -1.9494e-02, -1.6038e+00,  1.3932e+00,\n",
            "        -1.1178e+00, -1.7526e+00, -9.9266e-01, -6.5199e-01, -2.5070e-01,\n",
            "        -6.0597e-01,  5.5044e-02,  1.8509e+00, -4.8002e-01, -1.8096e+00,\n",
            "         8.1585e-02,  1.7209e+00, -2.9186e-01,  4.0488e-01,  3.3067e-01,\n",
            "        -4.6425e-01, -3.4800e-01,  9.9188e-01, -1.2202e+00, -1.8695e+00,\n",
            "         7.6052e-01, -1.8494e+00, -1.3942e-01, -8.1977e-02, -1.3608e+00,\n",
            "         1.7941e-01, -7.0006e-01, -3.2942e-01, -1.0948e+00,  2.5333e-01,\n",
            "        -1.9982e+00,  1.7594e-01,  1.3207e+00, -8.0296e-01,  1.4498e+00,\n",
            "        -2.0089e-01, -1.3506e+00, -6.9900e-01,  6.9570e-01, -2.0492e+00,\n",
            "         6.6241e-01, -6.0408e-01,  4.1960e-01,  1.8141e+00, -6.2878e-01]), PILImage mode=RGB size=432x288)\n",
            "\n",
            "\n",
            "Collecting items from /gdrive/MyDrive/batterie/EIS_FOR_GAN\n",
            "Found 110 items\n",
            "2 datasets of sizes 110,0\n",
            "Setting up Pipeline: generate_noise\n",
            "Setting up Pipeline: PILBase.create\n",
            "Setting up after_item: Pipeline: Resize -- {'size': (64, 64), 'method': 'crop', 'pad_mode': 'reflection', 'resamples': (2, 0), 'p': 1.0} -> ToTensor\n",
            "Setting up before_batch: Pipeline: \n",
            "Setting up after_batch: Pipeline: IntToFloatTensor -- {'div': 255.0, 'div_mask': 1} -> Normalize -- {'mean': tensor([[[[0.5000]],\n",
            "\n",
            "         [[0.5000]],\n",
            "\n",
            "         [[0.5000]]]], device='cuda:0'), 'std': tensor([[[[0.5000]],\n",
            "\n",
            "         [[0.5000]],\n",
            "\n",
            "         [[0.5000]]]], device='cuda:0'), 'axes': (0, 2, 3)}\n",
            "\n",
            "Building one batch\n",
            "Applying item_tfms to the first sample:\n",
            "  Pipeline: Resize -- {'size': (64, 64), 'method': 'crop', 'pad_mode': 'reflection', 'resamples': (2, 0), 'p': 1.0} -> ToTensor\n",
            "    starting from\n",
            "      (InvisibleTensor of size 100, PILImage mode=RGB size=432x288)\n",
            "    applying Resize -- {'size': (64, 64), 'method': 'crop', 'pad_mode': 'reflection', 'resamples': (2, 0), 'p': 1.0} gives\n",
            "      (InvisibleTensor of size 100, PILImage mode=RGB size=64x64)\n",
            "    applying ToTensor gives\n",
            "      (InvisibleTensor of size 100, TensorImage of size 3x64x64)\n",
            "\n",
            "Adding the next 3 samples\n",
            "\n",
            "No before_batch transform to apply\n",
            "\n",
            "Collating items in a batch\n",
            "\n",
            "Applying batch_tfms to the batch built\n",
            "  Pipeline: IntToFloatTensor -- {'div': 255.0, 'div_mask': 1} -> Normalize -- {'mean': tensor([[[[0.5000]],\n",
            "\n",
            "         [[0.5000]],\n",
            "\n",
            "         [[0.5000]]]], device='cuda:0'), 'std': tensor([[[[0.5000]],\n",
            "\n",
            "         [[0.5000]],\n",
            "\n",
            "         [[0.5000]]]], device='cuda:0'), 'axes': (0, 2, 3)}\n",
            "    starting from\n",
            "      (InvisibleTensor of size 4x100, TensorImage of size 4x3x64x64)\n",
            "    applying IntToFloatTensor -- {'div': 255.0, 'div_mask': 1} gives\n",
            "      (InvisibleTensor of size 4x100, TensorImage of size 4x3x64x64)\n",
            "    applying Normalize -- {'mean': tensor([[[[0.5000]],\n",
            "\n",
            "         [[0.5000]],\n",
            "\n",
            "         [[0.5000]]]], device='cuda:0'), 'std': tensor([[[[0.5000]],\n",
            "\n",
            "         [[0.5000]],\n",
            "\n",
            "         [[0.5000]]]], device='cuda:0'), 'axes': (0, 2, 3)} gives\n",
            "      (InvisibleTensor of size 4x100, TensorImage of size 4x3x64x64)\n"
          ]
        }
      ]
    },
    {
      "cell_type": "code",
      "execution_count": 63,
      "metadata": {
        "id": "AT6NRvtB87kG"
      },
      "outputs": [],
      "source": [
        "dls.show_batch()"
      ]
    },
    {
      "cell_type": "markdown",
      "metadata": {
        "id": "VL8oMh-x87kG"
      },
      "source": [
        "## GAN Learner"
      ]
    },
    {
      "cell_type": "code",
      "execution_count": 52,
      "metadata": {
        "id": "zNWpBPLM87kH"
      },
      "outputs": [],
      "source": [
        "#export\n",
        "def gan_loss_from_func(loss_gen, loss_crit, weights_gen=None):\n",
        "    \"Define loss functions for a GAN from `loss_gen` and `loss_crit`.\"\n",
        "    def _loss_G(fake_pred, output, target, weights_gen=weights_gen):\n",
        "        ones = fake_pred.new_ones(fake_pred.shape[0])\n",
        "        weights_gen = ifnone(weights_gen, (1.,1.))\n",
        "        return weights_gen[0] * loss_crit(fake_pred, ones) + weights_gen[1] * loss_gen(output, target)\n",
        "\n",
        "    def _loss_C(real_pred, fake_pred):\n",
        "        ones  = real_pred.new_ones (real_pred.shape[0])\n",
        "        zeros = fake_pred.new_zeros(fake_pred.shape[0])\n",
        "        return (loss_crit(real_pred, ones) + loss_crit(fake_pred, zeros)) / 2\n",
        "\n",
        "    return _loss_G, _loss_C"
      ]
    },
    {
      "cell_type": "code",
      "execution_count": 53,
      "metadata": {
        "id": "xpx5eitA87kH"
      },
      "outputs": [],
      "source": [
        "#export\n",
        "def _tk_mean(fake_pred, output, target): return fake_pred.mean()\n",
        "def _tk_diff(real_pred, fake_pred): return real_pred.mean() - fake_pred.mean()"
      ]
    },
    {
      "cell_type": "code",
      "execution_count": 54,
      "metadata": {
        "id": "zknlqjk687kH"
      },
      "outputs": [],
      "source": [
        "#export\n",
        "@delegates()\n",
        "class GANLearner(Learner):\n",
        "    \"A `Learner` suitable for GANs.\"\n",
        "    def __init__(self, dls, generator, critic, gen_loss_func, crit_loss_func, switcher=None, gen_first=False,\n",
        "                 switch_eval=True, show_img=True, clip=None, cbs=None, metrics=None, **kwargs):\n",
        "        gan = GANModule(generator, critic)\n",
        "        loss_func = GANLoss(gen_loss_func, crit_loss_func, gan)\n",
        "        if switcher is None: switcher = FixedGANSwitcher()\n",
        "        trainer = GANTrainer(clip=clip, switch_eval=switch_eval, gen_first=gen_first, show_img=show_img)\n",
        "        cbs = L(cbs) + L(trainer, switcher)\n",
        "        metrics = L(metrics) + L(*LossMetrics('gen_loss,crit_loss'))\n",
        "        super().__init__(dls, gan, loss_func=loss_func, cbs=cbs, metrics=metrics, **kwargs)\n",
        "\n",
        "    @classmethod\n",
        "    def from_learners(cls, gen_learn, crit_learn, switcher=None, weights_gen=None, **kwargs):\n",
        "        \"Create a GAN from `learn_gen` and `learn_crit`.\"\n",
        "        losses = gan_loss_from_func(gen_learn.loss_func, crit_learn.loss_func, weights_gen=weights_gen)\n",
        "        return cls(gen_learn.dls, gen_learn.model, crit_learn.model, *losses, switcher=switcher, **kwargs)\n",
        "\n",
        "    @classmethod\n",
        "    def wgan(cls, dls, generator, critic, switcher=None, clip=0.01, switch_eval=False, **kwargs):\n",
        "        \"Create a WGAN from `data`, `generator` and `critic`.\"\n",
        "        if switcher is None: switcher = FixedGANSwitcher(n_crit=5, n_gen=1)\n",
        "        return cls(dls, generator, critic, _tk_mean, _tk_diff, switcher=switcher, clip=clip, switch_eval=switch_eval, **kwargs)\n",
        "\n",
        "GANLearner.from_learners = delegates(to=GANLearner.__init__)(GANLearner.from_learners)\n",
        "GANLearner.wgan = delegates(to=GANLearner.__init__)(GANLearner.wgan)"
      ]
    },
    {
      "cell_type": "code",
      "execution_count": 55,
      "metadata": {
        "id": "3Cc7_3Tn87kH"
      },
      "outputs": [],
      "source": [
        "from fastai.callback.all import *"
      ]
    },
    {
      "cell_type": "code",
      "execution_count": 56,
      "metadata": {
        "id": "SJdfuz8887kH"
      },
      "outputs": [],
      "source": [
        "generator = basic_generator(64, n_channels=3, n_extra_layers=1)\n",
        "critic    = basic_critic   (64, n_channels=3, n_extra_layers=1, act_cls=partial(nn.LeakyReLU, negative_slope=0.2))"
      ]
    },
    {
      "cell_type": "code",
      "execution_count": 57,
      "metadata": {
        "id": "4nt_46WI87kH"
      },
      "outputs": [],
      "source": [
        "learn = GANLearner.wgan(dls, generator, critic, opt_func = RMSProp)"
      ]
    },
    {
      "cell_type": "code",
      "execution_count": 58,
      "metadata": {
        "id": "TO4YBgXR87kH"
      },
      "outputs": [],
      "source": [
        "learn.recorder.train_metrics=True\n",
        "learn.recorder.valid_metrics=False"
      ]
    },
    {
      "cell_type": "code",
      "execution_count": 59,
      "metadata": {
        "id": "CBSeJ2XI87kH",
        "outputId": "6a84f7b3-b9cf-4782-aedb-1338f5081331",
        "colab": {
          "base_uri": "https://localhost:8080/",
          "height": 240
        }
      },
      "outputs": [
        {
          "output_type": "stream",
          "name": "stderr",
          "text": [
            "/usr/local/lib/python3.7/dist-packages/fastai/callback/core.py:51: UserWarning: You are shadowing an attribute (generator) that exists in the learner. Use `self.learn.generator` to avoid this\n",
            "  warn(f\"You are shadowing an attribute ({name}) that exists in the learner. Use `self.learn.{name}` to avoid this\")\n",
            "/usr/local/lib/python3.7/dist-packages/fastai/callback/core.py:51: UserWarning: You are shadowing an attribute (critic) that exists in the learner. Use `self.learn.critic` to avoid this\n",
            "  warn(f\"You are shadowing an attribute ({name}) that exists in the learner. Use `self.learn.{name}` to avoid this\")\n",
            "/usr/local/lib/python3.7/dist-packages/fastai/callback/core.py:51: UserWarning: You are shadowing an attribute (gen_mode) that exists in the learner. Use `self.learn.gen_mode` to avoid this\n",
            "  warn(f\"You are shadowing an attribute ({name}) that exists in the learner. Use `self.learn.{name}` to avoid this\")\n"
          ]
        },
        {
          "output_type": "display_data",
          "data": {
            "text/plain": [
              "<IPython.core.display.HTML object>"
            ],
            "text/html": [
              "\n",
              "<style>\n",
              "    /* Turns off some styling */\n",
              "    progress {\n",
              "        /* gets rid of default border in Firefox and Opera. */\n",
              "        border: none;\n",
              "        /* Needs to be in here for Safari polyfill so background images work as expected. */\n",
              "        background-size: auto;\n",
              "    }\n",
              "    .progress-bar-interrupted, .progress-bar-interrupted::-webkit-progress-bar {\n",
              "        background: #F44336;\n",
              "    }\n",
              "</style>\n"
            ]
          },
          "metadata": {}
        },
        {
          "output_type": "display_data",
          "data": {
            "text/plain": [
              "<IPython.core.display.HTML object>"
            ],
            "text/html": [
              "<table border=\"1\" class=\"dataframe\">\n",
              "  <thead>\n",
              "    <tr style=\"text-align: left;\">\n",
              "      <th>epoch</th>\n",
              "      <th>train_loss</th>\n",
              "      <th>gen_loss</th>\n",
              "      <th>crit_loss</th>\n",
              "      <th>time</th>\n",
              "    </tr>\n",
              "  </thead>\n",
              "  <tbody>\n",
              "    <tr>\n",
              "      <td>0</td>\n",
              "      <td>-0.218284</td>\n",
              "      <td>0.000000</td>\n",
              "      <td>-0.214885</td>\n",
              "      <td>00:00</td>\n",
              "    </tr>\n",
              "  </tbody>\n",
              "</table>"
            ]
          },
          "metadata": {}
        },
        {
          "output_type": "stream",
          "name": "stderr",
          "text": [
            "/usr/local/lib/python3.7/dist-packages/fastprogress/fastprogress.py:74: UserWarning: Your generator is empty.\n",
            "  warn(\"Your generator is empty.\")\n"
          ]
        }
      ],
      "source": [
        "learn.fit(1, 2e-4, wd=0.)"
      ]
    },
    {
      "cell_type": "code",
      "execution_count": 60,
      "metadata": {
        "id": "Wq4-Yz8q87kI",
        "outputId": "96c2e9bc-b5c6-4f48-aeeb-220203d1ce83",
        "colab": {
          "base_uri": "https://localhost:8080/",
          "height": 141
        }
      },
      "outputs": [
        {
          "output_type": "stream",
          "name": "stderr",
          "text": [
            "/usr/local/lib/python3.7/dist-packages/fastai/callback/core.py:51: UserWarning: You are shadowing an attribute (generator) that exists in the learner. Use `self.learn.generator` to avoid this\n",
            "  warn(f\"You are shadowing an attribute ({name}) that exists in the learner. Use `self.learn.{name}` to avoid this\")\n",
            "/usr/local/lib/python3.7/dist-packages/fastai/callback/core.py:51: UserWarning: You are shadowing an attribute (critic) that exists in the learner. Use `self.learn.critic` to avoid this\n",
            "  warn(f\"You are shadowing an attribute ({name}) that exists in the learner. Use `self.learn.{name}` to avoid this\")\n",
            "/usr/local/lib/python3.7/dist-packages/fastai/callback/core.py:51: UserWarning: You are shadowing an attribute (gen_mode) that exists in the learner. Use `self.learn.gen_mode` to avoid this\n",
            "  warn(f\"You are shadowing an attribute ({name}) that exists in the learner. Use `self.learn.{name}` to avoid this\")\n"
          ]
        },
        {
          "output_type": "display_data",
          "data": {
            "text/plain": [
              "<IPython.core.display.HTML object>"
            ],
            "text/html": [
              "\n",
              "<style>\n",
              "    /* Turns off some styling */\n",
              "    progress {\n",
              "        /* gets rid of default border in Firefox and Opera. */\n",
              "        border: none;\n",
              "        /* Needs to be in here for Safari polyfill so background images work as expected. */\n",
              "        background-size: auto;\n",
              "    }\n",
              "    .progress-bar-interrupted, .progress-bar-interrupted::-webkit-progress-bar {\n",
              "        background: #F44336;\n",
              "    }\n",
              "</style>\n"
            ]
          },
          "metadata": {}
        },
        {
          "output_type": "display_data",
          "data": {
            "text/plain": [
              "<IPython.core.display.HTML object>"
            ],
            "text/html": [
              ""
            ]
          },
          "metadata": {}
        }
      ],
      "source": [
        "learn.show_results(max_n=9, ds_idx=0)"
      ]
    },
    {
      "cell_type": "code",
      "source": [
        "learn.fit(10, 2e-4, wd=0.)"
      ],
      "metadata": {
        "id": "BlqI4DtCHUGx",
        "outputId": "af745538-fd43-4685-dceb-e3eb802f9288",
        "colab": {
          "base_uri": "https://localhost:8080/",
          "height": 522
        }
      },
      "execution_count": 62,
      "outputs": [
        {
          "output_type": "stream",
          "name": "stderr",
          "text": [
            "/usr/local/lib/python3.7/dist-packages/fastai/callback/core.py:51: UserWarning: You are shadowing an attribute (generator) that exists in the learner. Use `self.learn.generator` to avoid this\n",
            "  warn(f\"You are shadowing an attribute ({name}) that exists in the learner. Use `self.learn.{name}` to avoid this\")\n",
            "/usr/local/lib/python3.7/dist-packages/fastai/callback/core.py:51: UserWarning: You are shadowing an attribute (critic) that exists in the learner. Use `self.learn.critic` to avoid this\n",
            "  warn(f\"You are shadowing an attribute ({name}) that exists in the learner. Use `self.learn.{name}` to avoid this\")\n",
            "/usr/local/lib/python3.7/dist-packages/fastai/callback/core.py:51: UserWarning: You are shadowing an attribute (gen_mode) that exists in the learner. Use `self.learn.gen_mode` to avoid this\n",
            "  warn(f\"You are shadowing an attribute ({name}) that exists in the learner. Use `self.learn.{name}` to avoid this\")\n"
          ]
        },
        {
          "output_type": "display_data",
          "data": {
            "text/plain": [
              "<IPython.core.display.HTML object>"
            ],
            "text/html": [
              "\n",
              "<style>\n",
              "    /* Turns off some styling */\n",
              "    progress {\n",
              "        /* gets rid of default border in Firefox and Opera. */\n",
              "        border: none;\n",
              "        /* Needs to be in here for Safari polyfill so background images work as expected. */\n",
              "        background-size: auto;\n",
              "    }\n",
              "    .progress-bar-interrupted, .progress-bar-interrupted::-webkit-progress-bar {\n",
              "        background: #F44336;\n",
              "    }\n",
              "</style>\n"
            ]
          },
          "metadata": {}
        },
        {
          "output_type": "display_data",
          "data": {
            "text/plain": [
              "<IPython.core.display.HTML object>"
            ],
            "text/html": [
              "<table border=\"1\" class=\"dataframe\">\n",
              "  <thead>\n",
              "    <tr style=\"text-align: left;\">\n",
              "      <th>epoch</th>\n",
              "      <th>train_loss</th>\n",
              "      <th>gen_loss</th>\n",
              "      <th>crit_loss</th>\n",
              "      <th>time</th>\n",
              "    </tr>\n",
              "  </thead>\n",
              "  <tbody>\n",
              "    <tr>\n",
              "      <td>0</td>\n",
              "      <td>-1.116474</td>\n",
              "      <td>0.490519</td>\n",
              "      <td>-1.115538</td>\n",
              "      <td>00:01</td>\n",
              "    </tr>\n",
              "    <tr>\n",
              "      <td>1</td>\n",
              "      <td>-0.827093</td>\n",
              "      <td>0.629105</td>\n",
              "      <td>-1.145573</td>\n",
              "      <td>00:00</td>\n",
              "    </tr>\n",
              "    <tr>\n",
              "      <td>2</td>\n",
              "      <td>-0.743473</td>\n",
              "      <td>0.638420</td>\n",
              "      <td>-1.184326</td>\n",
              "      <td>00:00</td>\n",
              "    </tr>\n",
              "    <tr>\n",
              "      <td>3</td>\n",
              "      <td>-0.675191</td>\n",
              "      <td>0.643298</td>\n",
              "      <td>-1.103786</td>\n",
              "      <td>00:00</td>\n",
              "    </tr>\n",
              "    <tr>\n",
              "      <td>4</td>\n",
              "      <td>-0.665167</td>\n",
              "      <td>0.639110</td>\n",
              "      <td>-1.186606</td>\n",
              "      <td>00:00</td>\n",
              "    </tr>\n",
              "    <tr>\n",
              "      <td>5</td>\n",
              "      <td>-0.666080</td>\n",
              "      <td>0.675635</td>\n",
              "      <td>-1.312860</td>\n",
              "      <td>00:00</td>\n",
              "    </tr>\n",
              "    <tr>\n",
              "      <td>6</td>\n",
              "      <td>-0.665891</td>\n",
              "      <td>0.689301</td>\n",
              "      <td>-1.326487</td>\n",
              "      <td>00:00</td>\n",
              "    </tr>\n",
              "    <tr>\n",
              "      <td>7</td>\n",
              "      <td>-0.661327</td>\n",
              "      <td>0.698973</td>\n",
              "      <td>-1.306898</td>\n",
              "      <td>00:00</td>\n",
              "    </tr>\n",
              "    <tr>\n",
              "      <td>8</td>\n",
              "      <td>-0.636891</td>\n",
              "      <td>0.685148</td>\n",
              "      <td>-1.146314</td>\n",
              "      <td>00:00</td>\n",
              "    </tr>\n",
              "    <tr>\n",
              "      <td>9</td>\n",
              "      <td>-0.606280</td>\n",
              "      <td>0.667562</td>\n",
              "      <td>-0.979548</td>\n",
              "      <td>00:00</td>\n",
              "    </tr>\n",
              "  </tbody>\n",
              "</table>"
            ]
          },
          "metadata": {}
        },
        {
          "output_type": "stream",
          "name": "stderr",
          "text": [
            "/usr/local/lib/python3.7/dist-packages/fastprogress/fastprogress.py:74: UserWarning: Your generator is empty.\n",
            "  warn(\"Your generator is empty.\")\n"
          ]
        }
      ]
    },
    {
      "cell_type": "code",
      "source": [
        "learn.show_results(max_n=9, ds_idx=0)"
      ],
      "metadata": {
        "id": "byrCMc71mDTF",
        "outputId": "fda83a36-3cc3-48ae-9c36-ab475f263b30",
        "colab": {
          "base_uri": "https://localhost:8080/",
          "height": 141
        }
      },
      "execution_count": 64,
      "outputs": [
        {
          "output_type": "stream",
          "name": "stderr",
          "text": [
            "/usr/local/lib/python3.7/dist-packages/fastai/callback/core.py:51: UserWarning: You are shadowing an attribute (generator) that exists in the learner. Use `self.learn.generator` to avoid this\n",
            "  warn(f\"You are shadowing an attribute ({name}) that exists in the learner. Use `self.learn.{name}` to avoid this\")\n",
            "/usr/local/lib/python3.7/dist-packages/fastai/callback/core.py:51: UserWarning: You are shadowing an attribute (critic) that exists in the learner. Use `self.learn.critic` to avoid this\n",
            "  warn(f\"You are shadowing an attribute ({name}) that exists in the learner. Use `self.learn.{name}` to avoid this\")\n",
            "/usr/local/lib/python3.7/dist-packages/fastai/callback/core.py:51: UserWarning: You are shadowing an attribute (gen_mode) that exists in the learner. Use `self.learn.gen_mode` to avoid this\n",
            "  warn(f\"You are shadowing an attribute ({name}) that exists in the learner. Use `self.learn.{name}` to avoid this\")\n"
          ]
        },
        {
          "output_type": "display_data",
          "data": {
            "text/plain": [
              "<IPython.core.display.HTML object>"
            ],
            "text/html": [
              "\n",
              "<style>\n",
              "    /* Turns off some styling */\n",
              "    progress {\n",
              "        /* gets rid of default border in Firefox and Opera. */\n",
              "        border: none;\n",
              "        /* Needs to be in here for Safari polyfill so background images work as expected. */\n",
              "        background-size: auto;\n",
              "    }\n",
              "    .progress-bar-interrupted, .progress-bar-interrupted::-webkit-progress-bar {\n",
              "        background: #F44336;\n",
              "    }\n",
              "</style>\n"
            ]
          },
          "metadata": {}
        },
        {
          "output_type": "display_data",
          "data": {
            "text/plain": [
              "<IPython.core.display.HTML object>"
            ],
            "text/html": [
              ""
            ]
          },
          "metadata": {}
        }
      ]
    },
    {
      "cell_type": "code",
      "source": [
        "learn.fit(2, 2e-4, wd=0.)"
      ],
      "metadata": {
        "id": "vybMMfjQmWXl",
        "outputId": "86a724cf-2e51-4dd6-ffe8-9306e25976d9",
        "colab": {
          "base_uri": "https://localhost:8080/",
          "height": 271
        }
      },
      "execution_count": 65,
      "outputs": [
        {
          "output_type": "stream",
          "name": "stderr",
          "text": [
            "/usr/local/lib/python3.7/dist-packages/fastai/callback/core.py:51: UserWarning: You are shadowing an attribute (generator) that exists in the learner. Use `self.learn.generator` to avoid this\n",
            "  warn(f\"You are shadowing an attribute ({name}) that exists in the learner. Use `self.learn.{name}` to avoid this\")\n",
            "/usr/local/lib/python3.7/dist-packages/fastai/callback/core.py:51: UserWarning: You are shadowing an attribute (critic) that exists in the learner. Use `self.learn.critic` to avoid this\n",
            "  warn(f\"You are shadowing an attribute ({name}) that exists in the learner. Use `self.learn.{name}` to avoid this\")\n",
            "/usr/local/lib/python3.7/dist-packages/fastai/callback/core.py:51: UserWarning: You are shadowing an attribute (gen_mode) that exists in the learner. Use `self.learn.gen_mode` to avoid this\n",
            "  warn(f\"You are shadowing an attribute ({name}) that exists in the learner. Use `self.learn.{name}` to avoid this\")\n"
          ]
        },
        {
          "output_type": "display_data",
          "data": {
            "text/plain": [
              "<IPython.core.display.HTML object>"
            ],
            "text/html": [
              "\n",
              "<style>\n",
              "    /* Turns off some styling */\n",
              "    progress {\n",
              "        /* gets rid of default border in Firefox and Opera. */\n",
              "        border: none;\n",
              "        /* Needs to be in here for Safari polyfill so background images work as expected. */\n",
              "        background-size: auto;\n",
              "    }\n",
              "    .progress-bar-interrupted, .progress-bar-interrupted::-webkit-progress-bar {\n",
              "        background: #F44336;\n",
              "    }\n",
              "</style>\n"
            ]
          },
          "metadata": {}
        },
        {
          "output_type": "display_data",
          "data": {
            "text/plain": [
              "<IPython.core.display.HTML object>"
            ],
            "text/html": [
              "<table border=\"1\" class=\"dataframe\">\n",
              "  <thead>\n",
              "    <tr style=\"text-align: left;\">\n",
              "      <th>epoch</th>\n",
              "      <th>train_loss</th>\n",
              "      <th>gen_loss</th>\n",
              "      <th>crit_loss</th>\n",
              "      <th>time</th>\n",
              "    </tr>\n",
              "  </thead>\n",
              "  <tbody>\n",
              "    <tr>\n",
              "      <td>0</td>\n",
              "      <td>-1.359101</td>\n",
              "      <td>0.083679</td>\n",
              "      <td>-1.358382</td>\n",
              "      <td>00:00</td>\n",
              "    </tr>\n",
              "    <tr>\n",
              "      <td>1</td>\n",
              "      <td>-1.017451</td>\n",
              "      <td>0.712800</td>\n",
              "      <td>-1.387542</td>\n",
              "      <td>00:00</td>\n",
              "    </tr>\n",
              "  </tbody>\n",
              "</table>"
            ]
          },
          "metadata": {}
        },
        {
          "output_type": "stream",
          "name": "stderr",
          "text": [
            "/usr/local/lib/python3.7/dist-packages/fastprogress/fastprogress.py:74: UserWarning: Your generator is empty.\n",
            "  warn(\"Your generator is empty.\")\n"
          ]
        }
      ]
    },
    {
      "cell_type": "code",
      "source": [
        "learn.show_results(max_n=9, ds_idx=0)"
      ],
      "metadata": {
        "id": "UxiukEpXmZ3r",
        "outputId": "c6c4ea63-db23-47dc-8a43-3cf459f06c6e",
        "colab": {
          "base_uri": "https://localhost:8080/",
          "height": 141
        }
      },
      "execution_count": 66,
      "outputs": [
        {
          "output_type": "stream",
          "name": "stderr",
          "text": [
            "/usr/local/lib/python3.7/dist-packages/fastai/callback/core.py:51: UserWarning: You are shadowing an attribute (generator) that exists in the learner. Use `self.learn.generator` to avoid this\n",
            "  warn(f\"You are shadowing an attribute ({name}) that exists in the learner. Use `self.learn.{name}` to avoid this\")\n",
            "/usr/local/lib/python3.7/dist-packages/fastai/callback/core.py:51: UserWarning: You are shadowing an attribute (critic) that exists in the learner. Use `self.learn.critic` to avoid this\n",
            "  warn(f\"You are shadowing an attribute ({name}) that exists in the learner. Use `self.learn.{name}` to avoid this\")\n",
            "/usr/local/lib/python3.7/dist-packages/fastai/callback/core.py:51: UserWarning: You are shadowing an attribute (gen_mode) that exists in the learner. Use `self.learn.gen_mode` to avoid this\n",
            "  warn(f\"You are shadowing an attribute ({name}) that exists in the learner. Use `self.learn.{name}` to avoid this\")\n"
          ]
        },
        {
          "output_type": "display_data",
          "data": {
            "text/plain": [
              "<IPython.core.display.HTML object>"
            ],
            "text/html": [
              "\n",
              "<style>\n",
              "    /* Turns off some styling */\n",
              "    progress {\n",
              "        /* gets rid of default border in Firefox and Opera. */\n",
              "        border: none;\n",
              "        /* Needs to be in here for Safari polyfill so background images work as expected. */\n",
              "        background-size: auto;\n",
              "    }\n",
              "    .progress-bar-interrupted, .progress-bar-interrupted::-webkit-progress-bar {\n",
              "        background: #F44336;\n",
              "    }\n",
              "</style>\n"
            ]
          },
          "metadata": {}
        },
        {
          "output_type": "display_data",
          "data": {
            "text/plain": [
              "<IPython.core.display.HTML object>"
            ],
            "text/html": [
              ""
            ]
          },
          "metadata": {}
        }
      ]
    },
    {
      "cell_type": "markdown",
      "metadata": {
        "id": "_f0SEx0L87kI"
      },
      "source": [
        "## Export -"
      ]
    },
    {
      "cell_type": "code",
      "execution_count": null,
      "metadata": {
        "id": "NyHtCViU87kI"
      },
      "outputs": [],
      "source": [
        "#hide\n",
        "from nbdev.export import notebook2script\n",
        "notebook2script()"
      ]
    }
  ],
  "metadata": {
    "jupytext": {
      "split_at_heading": true
    },
    "kernelspec": {
      "display_name": "Python 3 (ipykernel)",
      "language": "python",
      "name": "python3"
    },
    "colab": {
      "name": "24_vision.gan.ipynb",
      "provenance": []
    },
    "accelerator": "GPU"
  },
  "nbformat": 4,
  "nbformat_minor": 0
}